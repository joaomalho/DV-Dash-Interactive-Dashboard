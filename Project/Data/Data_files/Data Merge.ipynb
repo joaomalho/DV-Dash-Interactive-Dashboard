{
 "cells": [
  {
   "attachments": {},
   "cell_type": "markdown",
   "id": "edde7d54",
   "metadata": {},
   "source": [
    "## __Data Base Pre Processing__"
   ]
  },
  {
   "cell_type": "code",
   "execution_count": 4,
   "metadata": {
    "dotnet_interactive": {
     "language": "csharp"
    },
    "polyglot_notebook": {
     "kernelName": "csharp"
    }
   },
   "outputs": [
    {
     "data": {
      "text/html": [
       "<div>\n",
       "<style scoped>\n",
       "    .dataframe tbody tr th:only-of-type {\n",
       "        vertical-align: middle;\n",
       "    }\n",
       "\n",
       "    .dataframe tbody tr th {\n",
       "        vertical-align: top;\n",
       "    }\n",
       "\n",
       "    .dataframe thead th {\n",
       "        text-align: right;\n",
       "    }\n",
       "</style>\n",
       "<table border=\"1\" class=\"dataframe\">\n",
       "  <thead>\n",
       "    <tr style=\"text-align: right;\">\n",
       "      <th></th>\n",
       "      <th>Entity</th>\n",
       "      <th>Code</th>\n",
       "      <th>Year</th>\n",
       "      <th>Indicator:Alcohol, recorded per capita (15+) consumption (in litres of pure alcohol) - Beverage Types:Wine</th>\n",
       "    </tr>\n",
       "  </thead>\n",
       "  <tbody>\n",
       "    <tr>\n",
       "      <th>0</th>\n",
       "      <td>Afghanistan</td>\n",
       "      <td>AFG</td>\n",
       "      <td>1961</td>\n",
       "      <td>0.0</td>\n",
       "    </tr>\n",
       "    <tr>\n",
       "      <th>1</th>\n",
       "      <td>Afghanistan</td>\n",
       "      <td>AFG</td>\n",
       "      <td>1962</td>\n",
       "      <td>0.0</td>\n",
       "    </tr>\n",
       "    <tr>\n",
       "      <th>2</th>\n",
       "      <td>Afghanistan</td>\n",
       "      <td>AFG</td>\n",
       "      <td>1963</td>\n",
       "      <td>0.0</td>\n",
       "    </tr>\n",
       "  </tbody>\n",
       "</table>\n",
       "</div>"
      ],
      "text/plain": [
       "        Entity Code  Year  \\\n",
       "0  Afghanistan  AFG  1961   \n",
       "1  Afghanistan  AFG  1962   \n",
       "2  Afghanistan  AFG  1963   \n",
       "\n",
       "   Indicator:Alcohol, recorded per capita (15+) consumption (in litres of pure alcohol) - Beverage Types:Wine  \n",
       "0                                                0.0                                                           \n",
       "1                                                0.0                                                           \n",
       "2                                                0.0                                                           "
      ]
     },
     "metadata": {},
     "output_type": "display_data"
    },
    {
     "name": "stdout",
     "output_type": "stream",
     "text": [
      "\n",
      "\n"
     ]
    },
    {
     "data": {
      "text/html": [
       "<div>\n",
       "<style scoped>\n",
       "    .dataframe tbody tr th:only-of-type {\n",
       "        vertical-align: middle;\n",
       "    }\n",
       "\n",
       "    .dataframe tbody tr th {\n",
       "        vertical-align: top;\n",
       "    }\n",
       "\n",
       "    .dataframe thead th {\n",
       "        text-align: right;\n",
       "    }\n",
       "</style>\n",
       "<table border=\"1\" class=\"dataframe\">\n",
       "  <thead>\n",
       "    <tr style=\"text-align: right;\">\n",
       "      <th></th>\n",
       "      <th>Country</th>\n",
       "      <th>Code</th>\n",
       "      <th>Year</th>\n",
       "      <th>Production (tonnes)</th>\n",
       "      <th>Indicator:Alcohol, recorded per capita (15+) consumption (in litres of pure alcohol) - Beverage Types:Wine</th>\n",
       "    </tr>\n",
       "  </thead>\n",
       "  <tbody>\n",
       "    <tr>\n",
       "      <th>0</th>\n",
       "      <td>Albania</td>\n",
       "      <td>ALB</td>\n",
       "      <td>2019</td>\n",
       "      <td>15925</td>\n",
       "      <td>1.15</td>\n",
       "    </tr>\n",
       "    <tr>\n",
       "      <th>1</th>\n",
       "      <td>Albania</td>\n",
       "      <td>ALB</td>\n",
       "      <td>2018</td>\n",
       "      <td>15290</td>\n",
       "      <td>1.12</td>\n",
       "    </tr>\n",
       "    <tr>\n",
       "      <th>2</th>\n",
       "      <td>Albania</td>\n",
       "      <td>ALB</td>\n",
       "      <td>2017</td>\n",
       "      <td>16868</td>\n",
       "      <td>1.11</td>\n",
       "    </tr>\n",
       "  </tbody>\n",
       "</table>\n",
       "</div>"
      ],
      "text/plain": [
       "   Country Code  Year  Production (tonnes)  \\\n",
       "0  Albania  ALB  2019                15925   \n",
       "1  Albania  ALB  2018                15290   \n",
       "2  Albania  ALB  2017                16868   \n",
       "\n",
       "   Indicator:Alcohol, recorded per capita (15+) consumption (in litres of pure alcohol) - Beverage Types:Wine  \n",
       "0                                               1.15                                                           \n",
       "1                                               1.12                                                           \n",
       "2                                               1.11                                                           "
      ]
     },
     "metadata": {},
     "output_type": "display_data"
    },
    {
     "name": "stdout",
     "output_type": "stream",
     "text": [
      "\n",
      "\n"
     ]
    },
    {
     "data": {
      "text/html": [
       "<div>\n",
       "<style scoped>\n",
       "    .dataframe tbody tr th:only-of-type {\n",
       "        vertical-align: middle;\n",
       "    }\n",
       "\n",
       "    .dataframe tbody tr th {\n",
       "        vertical-align: top;\n",
       "    }\n",
       "\n",
       "    .dataframe thead th {\n",
       "        text-align: right;\n",
       "    }\n",
       "</style>\n",
       "<table border=\"1\" class=\"dataframe\">\n",
       "  <thead>\n",
       "    <tr style=\"text-align: right;\">\n",
       "      <th></th>\n",
       "      <th>Region Name</th>\n",
       "      <th>Sub-region Name</th>\n",
       "      <th>ISO-alpha3 Code</th>\n",
       "    </tr>\n",
       "  </thead>\n",
       "  <tbody>\n",
       "    <tr>\n",
       "      <th>0</th>\n",
       "      <td>Africa</td>\n",
       "      <td>Northern Africa</td>\n",
       "      <td>DZA</td>\n",
       "    </tr>\n",
       "    <tr>\n",
       "      <th>1</th>\n",
       "      <td>Africa</td>\n",
       "      <td>Northern Africa</td>\n",
       "      <td>EGY</td>\n",
       "    </tr>\n",
       "    <tr>\n",
       "      <th>2</th>\n",
       "      <td>Africa</td>\n",
       "      <td>Northern Africa</td>\n",
       "      <td>LBY</td>\n",
       "    </tr>\n",
       "  </tbody>\n",
       "</table>\n",
       "</div>"
      ],
      "text/plain": [
       "  Region Name  Sub-region Name ISO-alpha3 Code\n",
       "0      Africa  Northern Africa             DZA\n",
       "1      Africa  Northern Africa             EGY\n",
       "2      Africa  Northern Africa             LBY"
      ]
     },
     "metadata": {},
     "output_type": "display_data"
    },
    {
     "name": "stdout",
     "output_type": "stream",
     "text": [
      "\n",
      "\n"
     ]
    },
    {
     "data": {
      "text/html": [
       "<div>\n",
       "<style scoped>\n",
       "    .dataframe tbody tr th:only-of-type {\n",
       "        vertical-align: middle;\n",
       "    }\n",
       "\n",
       "    .dataframe tbody tr th {\n",
       "        vertical-align: top;\n",
       "    }\n",
       "\n",
       "    .dataframe thead th {\n",
       "        text-align: right;\n",
       "    }\n",
       "</style>\n",
       "<table border=\"1\" class=\"dataframe\">\n",
       "  <thead>\n",
       "    <tr style=\"text-align: right;\">\n",
       "      <th></th>\n",
       "      <th>Alpha-3 code</th>\n",
       "      <th>Latitude (average)</th>\n",
       "      <th>Longitude (average)</th>\n",
       "    </tr>\n",
       "  </thead>\n",
       "  <tbody>\n",
       "    <tr>\n",
       "      <th>0</th>\n",
       "      <td>AFG</td>\n",
       "      <td>33.0</td>\n",
       "      <td>65.0</td>\n",
       "    </tr>\n",
       "    <tr>\n",
       "      <th>1</th>\n",
       "      <td>ALB</td>\n",
       "      <td>41.0</td>\n",
       "      <td>20.0</td>\n",
       "    </tr>\n",
       "    <tr>\n",
       "      <th>2</th>\n",
       "      <td>DZA</td>\n",
       "      <td>28.0</td>\n",
       "      <td>3.0</td>\n",
       "    </tr>\n",
       "  </tbody>\n",
       "</table>\n",
       "</div>"
      ],
      "text/plain": [
       "  Alpha-3 code  Latitude (average)  Longitude (average)\n",
       "0          AFG                33.0                 65.0\n",
       "1          ALB                41.0                 20.0\n",
       "2          DZA                28.0                  3.0"
      ]
     },
     "metadata": {},
     "output_type": "display_data"
    },
    {
     "name": "stdout",
     "output_type": "stream",
     "text": [
      "\n",
      "\n"
     ]
    },
    {
     "data": {
      "text/html": [
       "<div>\n",
       "<style scoped>\n",
       "    .dataframe tbody tr th:only-of-type {\n",
       "        vertical-align: middle;\n",
       "    }\n",
       "\n",
       "    .dataframe tbody tr th {\n",
       "        vertical-align: top;\n",
       "    }\n",
       "\n",
       "    .dataframe thead th {\n",
       "        text-align: right;\n",
       "    }\n",
       "</style>\n",
       "<table border=\"1\" class=\"dataframe\">\n",
       "  <thead>\n",
       "    <tr style=\"text-align: right;\">\n",
       "      <th></th>\n",
       "      <th>Country Code</th>\n",
       "      <th>Indicator Name</th>\n",
       "      <th>1960</th>\n",
       "      <th>1961</th>\n",
       "      <th>1962</th>\n",
       "      <th>1963</th>\n",
       "      <th>1964</th>\n",
       "      <th>1965</th>\n",
       "      <th>1966</th>\n",
       "      <th>1967</th>\n",
       "      <th>...</th>\n",
       "      <th>2013</th>\n",
       "      <th>2014</th>\n",
       "      <th>2015</th>\n",
       "      <th>2016</th>\n",
       "      <th>2017</th>\n",
       "      <th>2018</th>\n",
       "      <th>2019</th>\n",
       "      <th>2020</th>\n",
       "      <th>2021</th>\n",
       "      <th>Unnamed: 66</th>\n",
       "    </tr>\n",
       "  </thead>\n",
       "  <tbody>\n",
       "    <tr>\n",
       "      <th>0</th>\n",
       "      <td>AFE</td>\n",
       "      <td>Access to clean fuels and technologies for coo...</td>\n",
       "      <td>NaN</td>\n",
       "      <td>NaN</td>\n",
       "      <td>NaN</td>\n",
       "      <td>NaN</td>\n",
       "      <td>NaN</td>\n",
       "      <td>NaN</td>\n",
       "      <td>NaN</td>\n",
       "      <td>NaN</td>\n",
       "      <td>...</td>\n",
       "      <td>16.936004</td>\n",
       "      <td>17.337896</td>\n",
       "      <td>17.687093</td>\n",
       "      <td>18.140971</td>\n",
       "      <td>18.491344</td>\n",
       "      <td>18.825520</td>\n",
       "      <td>19.272212</td>\n",
       "      <td>19.628009</td>\n",
       "      <td>NaN</td>\n",
       "      <td>NaN</td>\n",
       "    </tr>\n",
       "    <tr>\n",
       "      <th>1</th>\n",
       "      <td>AFE</td>\n",
       "      <td>Access to clean fuels and technologies for coo...</td>\n",
       "      <td>NaN</td>\n",
       "      <td>NaN</td>\n",
       "      <td>NaN</td>\n",
       "      <td>NaN</td>\n",
       "      <td>NaN</td>\n",
       "      <td>NaN</td>\n",
       "      <td>NaN</td>\n",
       "      <td>NaN</td>\n",
       "      <td>...</td>\n",
       "      <td>6.499471</td>\n",
       "      <td>6.680066</td>\n",
       "      <td>6.859110</td>\n",
       "      <td>7.016238</td>\n",
       "      <td>7.180364</td>\n",
       "      <td>7.322294</td>\n",
       "      <td>7.517191</td>\n",
       "      <td>7.651598</td>\n",
       "      <td>NaN</td>\n",
       "      <td>NaN</td>\n",
       "    </tr>\n",
       "    <tr>\n",
       "      <th>2</th>\n",
       "      <td>AFE</td>\n",
       "      <td>Access to clean fuels and technologies for coo...</td>\n",
       "      <td>NaN</td>\n",
       "      <td>NaN</td>\n",
       "      <td>NaN</td>\n",
       "      <td>NaN</td>\n",
       "      <td>NaN</td>\n",
       "      <td>NaN</td>\n",
       "      <td>NaN</td>\n",
       "      <td>NaN</td>\n",
       "      <td>...</td>\n",
       "      <td>37.855399</td>\n",
       "      <td>38.046781</td>\n",
       "      <td>38.326255</td>\n",
       "      <td>38.468426</td>\n",
       "      <td>38.670044</td>\n",
       "      <td>38.722783</td>\n",
       "      <td>38.927016</td>\n",
       "      <td>39.042839</td>\n",
       "      <td>NaN</td>\n",
       "      <td>NaN</td>\n",
       "    </tr>\n",
       "  </tbody>\n",
       "</table>\n",
       "<p>3 rows × 65 columns</p>\n",
       "</div>"
      ],
      "text/plain": [
       "  Country Code                                     Indicator Name  1960  1961  \\\n",
       "0          AFE  Access to clean fuels and technologies for coo...   NaN   NaN   \n",
       "1          AFE  Access to clean fuels and technologies for coo...   NaN   NaN   \n",
       "2          AFE  Access to clean fuels and technologies for coo...   NaN   NaN   \n",
       "\n",
       "   1962  1963  1964  1965  1966  1967  ...       2013       2014       2015  \\\n",
       "0   NaN   NaN   NaN   NaN   NaN   NaN  ...  16.936004  17.337896  17.687093   \n",
       "1   NaN   NaN   NaN   NaN   NaN   NaN  ...   6.499471   6.680066   6.859110   \n",
       "2   NaN   NaN   NaN   NaN   NaN   NaN  ...  37.855399  38.046781  38.326255   \n",
       "\n",
       "        2016       2017       2018       2019       2020  2021  Unnamed: 66  \n",
       "0  18.140971  18.491344  18.825520  19.272212  19.628009   NaN          NaN  \n",
       "1   7.016238   7.180364   7.322294   7.517191   7.651598   NaN          NaN  \n",
       "2  38.468426  38.670044  38.722783  38.927016  39.042839   NaN          NaN  \n",
       "\n",
       "[3 rows x 65 columns]"
      ]
     },
     "metadata": {},
     "output_type": "display_data"
    },
    {
     "name": "stdout",
     "output_type": "stream",
     "text": [
      "\n",
      "\n"
     ]
    },
    {
     "data": {
      "text/html": [
       "<div>\n",
       "<style scoped>\n",
       "    .dataframe tbody tr th:only-of-type {\n",
       "        vertical-align: middle;\n",
       "    }\n",
       "\n",
       "    .dataframe tbody tr th {\n",
       "        vertical-align: top;\n",
       "    }\n",
       "\n",
       "    .dataframe thead th {\n",
       "        text-align: right;\n",
       "    }\n",
       "</style>\n",
       "<table border=\"1\" class=\"dataframe\">\n",
       "  <thead>\n",
       "    <tr style=\"text-align: right;\">\n",
       "      <th></th>\n",
       "      <th>Entity</th>\n",
       "      <th>Code</th>\n",
       "      <th>Year</th>\n",
       "      <th>Historical Index of Human Development (Prados de la Escosura)</th>\n",
       "    </tr>\n",
       "  </thead>\n",
       "  <tbody>\n",
       "    <tr>\n",
       "      <th>0</th>\n",
       "      <td>Afghanistan</td>\n",
       "      <td>AFG</td>\n",
       "      <td>1950</td>\n",
       "      <td>0.04</td>\n",
       "    </tr>\n",
       "    <tr>\n",
       "      <th>1</th>\n",
       "      <td>Afghanistan</td>\n",
       "      <td>AFG</td>\n",
       "      <td>1955</td>\n",
       "      <td>0.05</td>\n",
       "    </tr>\n",
       "    <tr>\n",
       "      <th>2</th>\n",
       "      <td>Afghanistan</td>\n",
       "      <td>AFG</td>\n",
       "      <td>1960</td>\n",
       "      <td>0.06</td>\n",
       "    </tr>\n",
       "  </tbody>\n",
       "</table>\n",
       "</div>"
      ],
      "text/plain": [
       "        Entity Code  Year  \\\n",
       "0  Afghanistan  AFG  1950   \n",
       "1  Afghanistan  AFG  1955   \n",
       "2  Afghanistan  AFG  1960   \n",
       "\n",
       "   Historical Index of Human Development (Prados de la Escosura)  \n",
       "0                                               0.04              \n",
       "1                                               0.05              \n",
       "2                                               0.06              "
      ]
     },
     "metadata": {},
     "output_type": "display_data"
    },
    {
     "name": "stdout",
     "output_type": "stream",
     "text": [
      "\n",
      "\n"
     ]
    },
    {
     "data": {
      "text/html": [
       "<div>\n",
       "<style scoped>\n",
       "    .dataframe tbody tr th:only-of-type {\n",
       "        vertical-align: middle;\n",
       "    }\n",
       "\n",
       "    .dataframe tbody tr th {\n",
       "        vertical-align: top;\n",
       "    }\n",
       "\n",
       "    .dataframe thead th {\n",
       "        text-align: right;\n",
       "    }\n",
       "</style>\n",
       "<table border=\"1\" class=\"dataframe\">\n",
       "  <thead>\n",
       "    <tr style=\"text-align: right;\">\n",
       "      <th></th>\n",
       "      <th>Entity</th>\n",
       "      <th>Code</th>\n",
       "      <th>Year</th>\n",
       "      <th>Human Development Index</th>\n",
       "    </tr>\n",
       "  </thead>\n",
       "  <tbody>\n",
       "    <tr>\n",
       "      <th>0</th>\n",
       "      <td>Afghanistan</td>\n",
       "      <td>AFG</td>\n",
       "      <td>1990</td>\n",
       "      <td>0.273</td>\n",
       "    </tr>\n",
       "    <tr>\n",
       "      <th>1</th>\n",
       "      <td>Afghanistan</td>\n",
       "      <td>AFG</td>\n",
       "      <td>1991</td>\n",
       "      <td>0.279</td>\n",
       "    </tr>\n",
       "    <tr>\n",
       "      <th>2</th>\n",
       "      <td>Afghanistan</td>\n",
       "      <td>AFG</td>\n",
       "      <td>1992</td>\n",
       "      <td>0.287</td>\n",
       "    </tr>\n",
       "  </tbody>\n",
       "</table>\n",
       "</div>"
      ],
      "text/plain": [
       "        Entity Code  Year  Human Development Index\n",
       "0  Afghanistan  AFG  1990                    0.273\n",
       "1  Afghanistan  AFG  1991                    0.279\n",
       "2  Afghanistan  AFG  1992                    0.287"
      ]
     },
     "metadata": {},
     "output_type": "display_data"
    }
   ],
   "source": [
    "import pandas as pd\n",
    "import warnings\n",
    "warnings.filterwarnings(\"ignore\")\n",
    "\n",
    "# import\n",
    "cons = pd.read_excel('wine-consumption-per-person.xlsx')\n",
    "\n",
    "prod = pd.read_excel('wine-production.xlsx')\n",
    "\n",
    "un = pd.read_csv('UNSD.Methodology.csv', delimiter=';')\n",
    "sub_un=un[['Region Name','Sub-region Name','ISO-alpha3 Code']]\n",
    "\n",
    "lat_long = pd.read_csv('countries_codes_and_coordinates.csv')\n",
    "sub_lat=lat_long[['Alpha-3 code','Latitude (average)', 'Longitude (average)']]\n",
    "sub_lat['Latitude (average)']=sub_lat['Latitude (average)'].apply(lambda x: x[:-1][2:]).astype(float)\n",
    "sub_lat['Longitude (average)']=sub_lat['Longitude (average)'].apply(lambda x: x[:-1][2:]).astype(float)\n",
    "sub_lat['Alpha-3 code']=sub_lat['Alpha-3 code'].apply(lambda x: x[:-1][2:])\n",
    "\n",
    "wdi=pd.read_csv('WDIData.csv').drop(['Country Name','Indicator Code'],axis=1)\n",
    "\n",
    "hdi = pd.read_csv('human-development-index-escosura.csv')\n",
    "\n",
    "hdi_2 = pd.read_csv('human-development-index.csv')\n",
    "\n",
    "display(cons.head(3))\n",
    "print('\\n')\n",
    "display(prod.head(3))\n",
    "print('\\n')\n",
    "display(sub_un.head(3))\n",
    "print('\\n')\n",
    "display(sub_lat.head(3))\n",
    "print('\\n')\n",
    "display(wdi.head(3))\n",
    "print('\\n')\n",
    "display(hdi.head(3))\n",
    "print('\\n')\n",
    "display(hdi_2.head(3))"
   ]
  },
  {
   "cell_type": "code",
   "execution_count": 13,
   "id": "1c981e53",
   "metadata": {},
   "outputs": [],
   "source": [
    "def wdi_indicator_getter(indicator):   \n",
    "    data = wdi.loc[wdi['Indicator Name'].isin([indicator])].reset_index().drop('index',axis=1)\n",
    "\n",
    "    ind = pd.DataFrame({'ISO_Code':[0], 'Year':[0], 'Values':[0]})\n",
    "\n",
    "    for i in range(1960,2020):\n",
    "        new_ind = pd.DataFrame()\n",
    "        new_ind['ISO_Code'] = 0\n",
    "        new_ind['Year'] = 0\n",
    "        new_ind['Values'] = 0\n",
    "        for j in range(len(data)):\n",
    "            new_ind.loc[j, 'ISO_Code'] = data['Country Code'].iloc[j]\n",
    "            new_ind.loc[j, 'Year'] = i\n",
    "            new_ind.loc[j, 'Values'] = data.loc[data['Country Code'].isin([data['Country Code'].iloc[j]])][str(i)].iloc[0]\n",
    "        ind = ind.append(new_ind)\n",
    "\n",
    "    ind.drop(0, axis=0, inplace=True)\n",
    "    return ind"
   ]
  },
  {
   "cell_type": "code",
   "execution_count": 14,
   "id": "29eb1e78",
   "metadata": {
    "scrolled": false
   },
   "outputs": [
    {
     "data": {
      "text/html": [
       "<div>\n",
       "<style scoped>\n",
       "    .dataframe tbody tr th:only-of-type {\n",
       "        vertical-align: middle;\n",
       "    }\n",
       "\n",
       "    .dataframe tbody tr th {\n",
       "        vertical-align: top;\n",
       "    }\n",
       "\n",
       "    .dataframe thead th {\n",
       "        text-align: right;\n",
       "    }\n",
       "</style>\n",
       "<table border=\"1\" class=\"dataframe\">\n",
       "  <thead>\n",
       "    <tr style=\"text-align: right;\">\n",
       "      <th></th>\n",
       "      <th>Country Code</th>\n",
       "      <th>Indicator Name</th>\n",
       "      <th>1960</th>\n",
       "      <th>1961</th>\n",
       "      <th>1962</th>\n",
       "      <th>1963</th>\n",
       "      <th>1964</th>\n",
       "      <th>1965</th>\n",
       "      <th>1966</th>\n",
       "      <th>1967</th>\n",
       "      <th>...</th>\n",
       "      <th>2013</th>\n",
       "      <th>2014</th>\n",
       "      <th>2015</th>\n",
       "      <th>2016</th>\n",
       "      <th>2017</th>\n",
       "      <th>2018</th>\n",
       "      <th>2019</th>\n",
       "      <th>2020</th>\n",
       "      <th>2021</th>\n",
       "      <th>Unnamed: 66</th>\n",
       "    </tr>\n",
       "  </thead>\n",
       "  <tbody>\n",
       "    <tr>\n",
       "      <th>0</th>\n",
       "      <td>AFE</td>\n",
       "      <td>Access to clean fuels and technologies for coo...</td>\n",
       "      <td>NaN</td>\n",
       "      <td>NaN</td>\n",
       "      <td>NaN</td>\n",
       "      <td>NaN</td>\n",
       "      <td>NaN</td>\n",
       "      <td>NaN</td>\n",
       "      <td>NaN</td>\n",
       "      <td>NaN</td>\n",
       "      <td>...</td>\n",
       "      <td>16.936004</td>\n",
       "      <td>17.337896</td>\n",
       "      <td>17.687093</td>\n",
       "      <td>18.140971</td>\n",
       "      <td>18.491344</td>\n",
       "      <td>18.825520</td>\n",
       "      <td>19.272212</td>\n",
       "      <td>19.628009</td>\n",
       "      <td>NaN</td>\n",
       "      <td>NaN</td>\n",
       "    </tr>\n",
       "    <tr>\n",
       "      <th>1</th>\n",
       "      <td>AFE</td>\n",
       "      <td>Access to clean fuels and technologies for coo...</td>\n",
       "      <td>NaN</td>\n",
       "      <td>NaN</td>\n",
       "      <td>NaN</td>\n",
       "      <td>NaN</td>\n",
       "      <td>NaN</td>\n",
       "      <td>NaN</td>\n",
       "      <td>NaN</td>\n",
       "      <td>NaN</td>\n",
       "      <td>...</td>\n",
       "      <td>6.499471</td>\n",
       "      <td>6.680066</td>\n",
       "      <td>6.859110</td>\n",
       "      <td>7.016238</td>\n",
       "      <td>7.180364</td>\n",
       "      <td>7.322294</td>\n",
       "      <td>7.517191</td>\n",
       "      <td>7.651598</td>\n",
       "      <td>NaN</td>\n",
       "      <td>NaN</td>\n",
       "    </tr>\n",
       "    <tr>\n",
       "      <th>2</th>\n",
       "      <td>AFE</td>\n",
       "      <td>Access to clean fuels and technologies for coo...</td>\n",
       "      <td>NaN</td>\n",
       "      <td>NaN</td>\n",
       "      <td>NaN</td>\n",
       "      <td>NaN</td>\n",
       "      <td>NaN</td>\n",
       "      <td>NaN</td>\n",
       "      <td>NaN</td>\n",
       "      <td>NaN</td>\n",
       "      <td>...</td>\n",
       "      <td>37.855399</td>\n",
       "      <td>38.046781</td>\n",
       "      <td>38.326255</td>\n",
       "      <td>38.468426</td>\n",
       "      <td>38.670044</td>\n",
       "      <td>38.722783</td>\n",
       "      <td>38.927016</td>\n",
       "      <td>39.042839</td>\n",
       "      <td>NaN</td>\n",
       "      <td>NaN</td>\n",
       "    </tr>\n",
       "    <tr>\n",
       "      <th>3</th>\n",
       "      <td>AFE</td>\n",
       "      <td>Access to electricity (% of population)</td>\n",
       "      <td>NaN</td>\n",
       "      <td>NaN</td>\n",
       "      <td>NaN</td>\n",
       "      <td>NaN</td>\n",
       "      <td>NaN</td>\n",
       "      <td>NaN</td>\n",
       "      <td>NaN</td>\n",
       "      <td>NaN</td>\n",
       "      <td>...</td>\n",
       "      <td>31.794160</td>\n",
       "      <td>32.001027</td>\n",
       "      <td>33.871910</td>\n",
       "      <td>38.880173</td>\n",
       "      <td>40.261358</td>\n",
       "      <td>43.061877</td>\n",
       "      <td>44.270860</td>\n",
       "      <td>45.803485</td>\n",
       "      <td>NaN</td>\n",
       "      <td>NaN</td>\n",
       "    </tr>\n",
       "    <tr>\n",
       "      <th>4</th>\n",
       "      <td>AFE</td>\n",
       "      <td>Access to electricity, rural (% of rural popul...</td>\n",
       "      <td>NaN</td>\n",
       "      <td>NaN</td>\n",
       "      <td>NaN</td>\n",
       "      <td>NaN</td>\n",
       "      <td>NaN</td>\n",
       "      <td>NaN</td>\n",
       "      <td>NaN</td>\n",
       "      <td>NaN</td>\n",
       "      <td>...</td>\n",
       "      <td>18.663502</td>\n",
       "      <td>17.633986</td>\n",
       "      <td>16.464681</td>\n",
       "      <td>24.531436</td>\n",
       "      <td>25.345111</td>\n",
       "      <td>27.449908</td>\n",
       "      <td>29.641760</td>\n",
       "      <td>30.404935</td>\n",
       "      <td>NaN</td>\n",
       "      <td>NaN</td>\n",
       "    </tr>\n",
       "    <tr>\n",
       "      <th>...</th>\n",
       "      <td>...</td>\n",
       "      <td>...</td>\n",
       "      <td>...</td>\n",
       "      <td>...</td>\n",
       "      <td>...</td>\n",
       "      <td>...</td>\n",
       "      <td>...</td>\n",
       "      <td>...</td>\n",
       "      <td>...</td>\n",
       "      <td>...</td>\n",
       "      <td>...</td>\n",
       "      <td>...</td>\n",
       "      <td>...</td>\n",
       "      <td>...</td>\n",
       "      <td>...</td>\n",
       "      <td>...</td>\n",
       "      <td>...</td>\n",
       "      <td>...</td>\n",
       "      <td>...</td>\n",
       "      <td>...</td>\n",
       "      <td>...</td>\n",
       "    </tr>\n",
       "    <tr>\n",
       "      <th>383567</th>\n",
       "      <td>ZWE</td>\n",
       "      <td>Women who believe a husband is justified in be...</td>\n",
       "      <td>NaN</td>\n",
       "      <td>NaN</td>\n",
       "      <td>NaN</td>\n",
       "      <td>NaN</td>\n",
       "      <td>NaN</td>\n",
       "      <td>NaN</td>\n",
       "      <td>NaN</td>\n",
       "      <td>NaN</td>\n",
       "      <td>...</td>\n",
       "      <td>NaN</td>\n",
       "      <td>NaN</td>\n",
       "      <td>14.500000</td>\n",
       "      <td>NaN</td>\n",
       "      <td>NaN</td>\n",
       "      <td>NaN</td>\n",
       "      <td>NaN</td>\n",
       "      <td>NaN</td>\n",
       "      <td>NaN</td>\n",
       "      <td>NaN</td>\n",
       "    </tr>\n",
       "    <tr>\n",
       "      <th>383568</th>\n",
       "      <td>ZWE</td>\n",
       "      <td>Women who were first married by age 15 (% of w...</td>\n",
       "      <td>NaN</td>\n",
       "      <td>NaN</td>\n",
       "      <td>NaN</td>\n",
       "      <td>NaN</td>\n",
       "      <td>NaN</td>\n",
       "      <td>NaN</td>\n",
       "      <td>NaN</td>\n",
       "      <td>NaN</td>\n",
       "      <td>...</td>\n",
       "      <td>NaN</td>\n",
       "      <td>NaN</td>\n",
       "      <td>3.700000</td>\n",
       "      <td>NaN</td>\n",
       "      <td>NaN</td>\n",
       "      <td>NaN</td>\n",
       "      <td>5.418352</td>\n",
       "      <td>NaN</td>\n",
       "      <td>NaN</td>\n",
       "      <td>NaN</td>\n",
       "    </tr>\n",
       "    <tr>\n",
       "      <th>383569</th>\n",
       "      <td>ZWE</td>\n",
       "      <td>Women who were first married by age 18 (% of w...</td>\n",
       "      <td>NaN</td>\n",
       "      <td>NaN</td>\n",
       "      <td>NaN</td>\n",
       "      <td>NaN</td>\n",
       "      <td>NaN</td>\n",
       "      <td>NaN</td>\n",
       "      <td>NaN</td>\n",
       "      <td>NaN</td>\n",
       "      <td>...</td>\n",
       "      <td>NaN</td>\n",
       "      <td>33.500000</td>\n",
       "      <td>32.400000</td>\n",
       "      <td>NaN</td>\n",
       "      <td>NaN</td>\n",
       "      <td>NaN</td>\n",
       "      <td>33.658057</td>\n",
       "      <td>NaN</td>\n",
       "      <td>NaN</td>\n",
       "      <td>NaN</td>\n",
       "    </tr>\n",
       "    <tr>\n",
       "      <th>383570</th>\n",
       "      <td>ZWE</td>\n",
       "      <td>Women's share of population ages 15+ living wi...</td>\n",
       "      <td>NaN</td>\n",
       "      <td>NaN</td>\n",
       "      <td>NaN</td>\n",
       "      <td>NaN</td>\n",
       "      <td>NaN</td>\n",
       "      <td>NaN</td>\n",
       "      <td>NaN</td>\n",
       "      <td>NaN</td>\n",
       "      <td>...</td>\n",
       "      <td>59.100000</td>\n",
       "      <td>59.400000</td>\n",
       "      <td>59.500000</td>\n",
       "      <td>59.700000</td>\n",
       "      <td>59.900000</td>\n",
       "      <td>60.100000</td>\n",
       "      <td>60.300000</td>\n",
       "      <td>60.500000</td>\n",
       "      <td>60.7</td>\n",
       "      <td>NaN</td>\n",
       "    </tr>\n",
       "    <tr>\n",
       "      <th>383571</th>\n",
       "      <td>ZWE</td>\n",
       "      <td>Young people (ages 15-24) newly infected with HIV</td>\n",
       "      <td>NaN</td>\n",
       "      <td>NaN</td>\n",
       "      <td>NaN</td>\n",
       "      <td>NaN</td>\n",
       "      <td>NaN</td>\n",
       "      <td>NaN</td>\n",
       "      <td>NaN</td>\n",
       "      <td>NaN</td>\n",
       "      <td>...</td>\n",
       "      <td>20000.000000</td>\n",
       "      <td>19000.000000</td>\n",
       "      <td>17000.000000</td>\n",
       "      <td>15000.000000</td>\n",
       "      <td>13000.000000</td>\n",
       "      <td>10000.000000</td>\n",
       "      <td>8600.000000</td>\n",
       "      <td>7700.000000</td>\n",
       "      <td>6800.0</td>\n",
       "      <td>NaN</td>\n",
       "    </tr>\n",
       "  </tbody>\n",
       "</table>\n",
       "<p>383572 rows × 65 columns</p>\n",
       "</div>"
      ],
      "text/plain": [
       "       Country Code                                     Indicator Name  1960  \\\n",
       "0               AFE  Access to clean fuels and technologies for coo...   NaN   \n",
       "1               AFE  Access to clean fuels and technologies for coo...   NaN   \n",
       "2               AFE  Access to clean fuels and technologies for coo...   NaN   \n",
       "3               AFE            Access to electricity (% of population)   NaN   \n",
       "4               AFE  Access to electricity, rural (% of rural popul...   NaN   \n",
       "...             ...                                                ...   ...   \n",
       "383567          ZWE  Women who believe a husband is justified in be...   NaN   \n",
       "383568          ZWE  Women who were first married by age 15 (% of w...   NaN   \n",
       "383569          ZWE  Women who were first married by age 18 (% of w...   NaN   \n",
       "383570          ZWE  Women's share of population ages 15+ living wi...   NaN   \n",
       "383571          ZWE  Young people (ages 15-24) newly infected with HIV   NaN   \n",
       "\n",
       "        1961  1962  1963  1964  1965  1966  1967  ...          2013  \\\n",
       "0        NaN   NaN   NaN   NaN   NaN   NaN   NaN  ...     16.936004   \n",
       "1        NaN   NaN   NaN   NaN   NaN   NaN   NaN  ...      6.499471   \n",
       "2        NaN   NaN   NaN   NaN   NaN   NaN   NaN  ...     37.855399   \n",
       "3        NaN   NaN   NaN   NaN   NaN   NaN   NaN  ...     31.794160   \n",
       "4        NaN   NaN   NaN   NaN   NaN   NaN   NaN  ...     18.663502   \n",
       "...      ...   ...   ...   ...   ...   ...   ...  ...           ...   \n",
       "383567   NaN   NaN   NaN   NaN   NaN   NaN   NaN  ...           NaN   \n",
       "383568   NaN   NaN   NaN   NaN   NaN   NaN   NaN  ...           NaN   \n",
       "383569   NaN   NaN   NaN   NaN   NaN   NaN   NaN  ...           NaN   \n",
       "383570   NaN   NaN   NaN   NaN   NaN   NaN   NaN  ...     59.100000   \n",
       "383571   NaN   NaN   NaN   NaN   NaN   NaN   NaN  ...  20000.000000   \n",
       "\n",
       "                2014          2015          2016          2017          2018  \\\n",
       "0          17.337896     17.687093     18.140971     18.491344     18.825520   \n",
       "1           6.680066      6.859110      7.016238      7.180364      7.322294   \n",
       "2          38.046781     38.326255     38.468426     38.670044     38.722783   \n",
       "3          32.001027     33.871910     38.880173     40.261358     43.061877   \n",
       "4          17.633986     16.464681     24.531436     25.345111     27.449908   \n",
       "...              ...           ...           ...           ...           ...   \n",
       "383567           NaN     14.500000           NaN           NaN           NaN   \n",
       "383568           NaN      3.700000           NaN           NaN           NaN   \n",
       "383569     33.500000     32.400000           NaN           NaN           NaN   \n",
       "383570     59.400000     59.500000     59.700000     59.900000     60.100000   \n",
       "383571  19000.000000  17000.000000  15000.000000  13000.000000  10000.000000   \n",
       "\n",
       "               2019         2020    2021  Unnamed: 66  \n",
       "0         19.272212    19.628009     NaN          NaN  \n",
       "1          7.517191     7.651598     NaN          NaN  \n",
       "2         38.927016    39.042839     NaN          NaN  \n",
       "3         44.270860    45.803485     NaN          NaN  \n",
       "4         29.641760    30.404935     NaN          NaN  \n",
       "...             ...          ...     ...          ...  \n",
       "383567          NaN          NaN     NaN          NaN  \n",
       "383568     5.418352          NaN     NaN          NaN  \n",
       "383569    33.658057          NaN     NaN          NaN  \n",
       "383570    60.300000    60.500000    60.7          NaN  \n",
       "383571  8600.000000  7700.000000  6800.0          NaN  \n",
       "\n",
       "[383572 rows x 65 columns]"
      ]
     },
     "execution_count": 14,
     "metadata": {},
     "output_type": "execute_result"
    }
   ],
   "source": [
    "wdi"
   ]
  },
  {
   "cell_type": "code",
   "execution_count": 15,
   "id": "9167f1de",
   "metadata": {},
   "outputs": [
    {
     "data": {
      "text/plain": [
       "array(['People using at least basic drinking water services (% of population)',\n",
       "       'People using at least basic drinking water services, rural (% of rural population)',\n",
       "       'People using at least basic drinking water services, urban (% of urban population)',\n",
       "       'People using safely managed drinking water services (% of population)',\n",
       "       'People using safely managed drinking water services, rural (% of rural population)',\n",
       "       'People using safely managed drinking water services, urban (% of urban population)'],\n",
       "      dtype=object)"
      ]
     },
     "execution_count": 15,
     "metadata": {},
     "output_type": "execute_result"
    }
   ],
   "source": [
    "gdp_df = wdi.loc[\n",
    "\n",
    "    # checking for words GDP and US independently of their order on the target string \n",
    "    (wdi['Indicator Name'].str.contains(r'(?=.*drink)', case=False))\n",
    "    #&\n",
    "    # excluding words that would return irrelevant indicators\n",
    "    #(~ wdi['Indicator Name'].str.contains('||||', case=False))\n",
    "]\n",
    "\n",
    "# saving index in variable (Indicator Code)\n",
    "#gdp = gdp_df.index[0]\n",
    "\n",
    "gdp_df['Indicator Name'].unique()"
   ]
  },
  {
   "cell_type": "code",
   "execution_count": 16,
   "id": "2c6b67d9",
   "metadata": {},
   "outputs": [
    {
     "data": {
      "text/html": [
       "<div>\n",
       "<style scoped>\n",
       "    .dataframe tbody tr th:only-of-type {\n",
       "        vertical-align: middle;\n",
       "    }\n",
       "\n",
       "    .dataframe tbody tr th {\n",
       "        vertical-align: top;\n",
       "    }\n",
       "\n",
       "    .dataframe thead th {\n",
       "        text-align: right;\n",
       "    }\n",
       "</style>\n",
       "<table border=\"1\" class=\"dataframe\">\n",
       "  <thead>\n",
       "    <tr style=\"text-align: right;\">\n",
       "      <th></th>\n",
       "      <th>Country Code</th>\n",
       "      <th>Indicator Name</th>\n",
       "      <th>1960</th>\n",
       "      <th>1961</th>\n",
       "      <th>1962</th>\n",
       "      <th>1963</th>\n",
       "      <th>1964</th>\n",
       "      <th>1965</th>\n",
       "      <th>1966</th>\n",
       "      <th>1967</th>\n",
       "      <th>...</th>\n",
       "      <th>2013</th>\n",
       "      <th>2014</th>\n",
       "      <th>2015</th>\n",
       "      <th>2016</th>\n",
       "      <th>2017</th>\n",
       "      <th>2018</th>\n",
       "      <th>2019</th>\n",
       "      <th>2020</th>\n",
       "      <th>2021</th>\n",
       "      <th>Unnamed: 66</th>\n",
       "    </tr>\n",
       "  </thead>\n",
       "  <tbody>\n",
       "  </tbody>\n",
       "</table>\n",
       "<p>0 rows × 65 columns</p>\n",
       "</div>"
      ],
      "text/plain": [
       "Empty DataFrame\n",
       "Columns: [Country Code, Indicator Name, 1960, 1961, 1962, 1963, 1964, 1965, 1966, 1967, 1968, 1969, 1970, 1971, 1972, 1973, 1974, 1975, 1976, 1977, 1978, 1979, 1980, 1981, 1982, 1983, 1984, 1985, 1986, 1987, 1988, 1989, 1990, 1991, 1992, 1993, 1994, 1995, 1996, 1997, 1998, 1999, 2000, 2001, 2002, 2003, 2004, 2005, 2006, 2007, 2008, 2009, 2010, 2011, 2012, 2013, 2014, 2015, 2016, 2017, 2018, 2019, 2020, 2021, Unnamed: 66]\n",
       "Index: []\n",
       "\n",
       "[0 rows x 65 columns]"
      ]
     },
     "execution_count": 16,
     "metadata": {},
     "output_type": "execute_result"
    }
   ],
   "source": [
    "wdi.loc[wdi['Indicator Name'].isin([''])].reset_index().drop('index',axis=1)"
   ]
  },
  {
   "cell_type": "code",
   "execution_count": 17,
   "id": "9a5a84e9",
   "metadata": {},
   "outputs": [
    {
     "data": {
      "text/html": [
       "<div>\n",
       "<style scoped>\n",
       "    .dataframe tbody tr th:only-of-type {\n",
       "        vertical-align: middle;\n",
       "    }\n",
       "\n",
       "    .dataframe tbody tr th {\n",
       "        vertical-align: top;\n",
       "    }\n",
       "\n",
       "    .dataframe thead th {\n",
       "        text-align: right;\n",
       "    }\n",
       "</style>\n",
       "<table border=\"1\" class=\"dataframe\">\n",
       "  <thead>\n",
       "    <tr style=\"text-align: right;\">\n",
       "      <th></th>\n",
       "      <th>ISO_Code</th>\n",
       "      <th>Year</th>\n",
       "      <th>Values</th>\n",
       "    </tr>\n",
       "  </thead>\n",
       "  <tbody>\n",
       "  </tbody>\n",
       "</table>\n",
       "</div>"
      ],
      "text/plain": [
       "Empty DataFrame\n",
       "Columns: [ISO_Code, Year, Values]\n",
       "Index: []"
      ]
     },
     "execution_count": 17,
     "metadata": {},
     "output_type": "execute_result"
    }
   ],
   "source": [
    "wdi_indicator_getter('')"
   ]
  },
  {
   "cell_type": "markdown",
   "id": "addbc5e9",
   "metadata": {},
   "source": [
    "\n",
    "'Andorra',Greece,Poland\n",
    "Antigua and Barbuda,Greenland,Portugal\n",
    "Aruba,Guam,Puerto Rico\n",
    "Australia,Hong Kong SAR, China,Qatar\n",
    "Austria,Hungary,Romania\n",
    "Bahamas, The,Iceland,San Marino\n",
    "Bahrain,Ireland,Saudi Arabia\n",
    "Barbados,Isle of Man,Seychelles\n",
    "Belgium,Israel,Singapore\n",
    "Bermuda,Italy,Sint Maarten (Dutch part)\n",
    "British Virgin Islands,Japan,Slovak Republic\n",
    "Brunei Darussalam,Korea, Rep.,Slovenia\n",
    "Canada,Kuwait,Spain\n",
    "Cayman Islands,Latvia,St. Kitts and Nevis\n",
    "Channel Islands,Liechtenstein,St. Martin (French part)\n",
    "Chile,Lithuania,Sweden\n",
    "Croatia,Luxembourg,Switzerland\n",
    "Curaçao,Macao SAR, China,Taiwan, China\n",
    "Cyprus,Malta,Trinidad and Tobago\n",
    "Czech Republic,Monaco,Turks and Caicos Islands\n",
    "Denmark,Nauru,United Arab Emirates\n",
    "Estonia,Netherlands,United Kingdom\n",
    "Faroe Islands,New Caledonia  ,United States\n",
    "Finland,New Zealand  ,Uruguay\n",
    "France,Northern Mariana Islands,Virgin Islands (U.S.)\n",
    "French Polynesia,Norway,\n",
    "Germany,Oman,\n",
    "Gibraltar,Panama "
   ]
  },
  {
   "cell_type": "code",
   "execution_count": 18,
   "id": "86bf6ddb",
   "metadata": {
    "scrolled": true
   },
   "outputs": [
    {
     "data": {
      "text/html": [
       "<div>\n",
       "<style scoped>\n",
       "    .dataframe tbody tr th:only-of-type {\n",
       "        vertical-align: middle;\n",
       "    }\n",
       "\n",
       "    .dataframe tbody tr th {\n",
       "        vertical-align: top;\n",
       "    }\n",
       "\n",
       "    .dataframe thead th {\n",
       "        text-align: right;\n",
       "    }\n",
       "</style>\n",
       "<table border=\"1\" class=\"dataframe\">\n",
       "  <thead>\n",
       "    <tr style=\"text-align: right;\">\n",
       "      <th></th>\n",
       "      <th>Country</th>\n",
       "      <th>ISO_Code</th>\n",
       "      <th>Year</th>\n",
       "      <th>Wine_Consumption_per_capita</th>\n",
       "      <th>Production (liters)</th>\n",
       "      <th>Region</th>\n",
       "      <th>Sub_region</th>\n",
       "      <th>Latitude (average)</th>\n",
       "      <th>Longitude (average)</th>\n",
       "      <th>Population</th>\n",
       "      <th>Total_Wine_Consumption</th>\n",
       "    </tr>\n",
       "  </thead>\n",
       "  <tbody>\n",
       "    <tr>\n",
       "      <th>0</th>\n",
       "      <td>Afghanistan</td>\n",
       "      <td>AFG</td>\n",
       "      <td>1961</td>\n",
       "      <td>0.0</td>\n",
       "      <td>0.0</td>\n",
       "      <td>Asia</td>\n",
       "      <td>Southern Asia</td>\n",
       "      <td>33.0</td>\n",
       "      <td>65.0</td>\n",
       "      <td>9169406.0</td>\n",
       "      <td>0.0</td>\n",
       "    </tr>\n",
       "    <tr>\n",
       "      <th>1</th>\n",
       "      <td>Afghanistan</td>\n",
       "      <td>AFG</td>\n",
       "      <td>1962</td>\n",
       "      <td>0.0</td>\n",
       "      <td>0.0</td>\n",
       "      <td>Asia</td>\n",
       "      <td>Southern Asia</td>\n",
       "      <td>33.0</td>\n",
       "      <td>65.0</td>\n",
       "      <td>9351442.0</td>\n",
       "      <td>0.0</td>\n",
       "    </tr>\n",
       "    <tr>\n",
       "      <th>2</th>\n",
       "      <td>Afghanistan</td>\n",
       "      <td>AFG</td>\n",
       "      <td>1963</td>\n",
       "      <td>0.0</td>\n",
       "      <td>0.0</td>\n",
       "      <td>Asia</td>\n",
       "      <td>Southern Asia</td>\n",
       "      <td>33.0</td>\n",
       "      <td>65.0</td>\n",
       "      <td>9543200.0</td>\n",
       "      <td>0.0</td>\n",
       "    </tr>\n",
       "    <tr>\n",
       "      <th>3</th>\n",
       "      <td>Afghanistan</td>\n",
       "      <td>AFG</td>\n",
       "      <td>1964</td>\n",
       "      <td>0.0</td>\n",
       "      <td>0.0</td>\n",
       "      <td>Asia</td>\n",
       "      <td>Southern Asia</td>\n",
       "      <td>33.0</td>\n",
       "      <td>65.0</td>\n",
       "      <td>9744772.0</td>\n",
       "      <td>0.0</td>\n",
       "    </tr>\n",
       "    <tr>\n",
       "      <th>4</th>\n",
       "      <td>Afghanistan</td>\n",
       "      <td>AFG</td>\n",
       "      <td>1965</td>\n",
       "      <td>0.0</td>\n",
       "      <td>0.0</td>\n",
       "      <td>Asia</td>\n",
       "      <td>Southern Asia</td>\n",
       "      <td>33.0</td>\n",
       "      <td>65.0</td>\n",
       "      <td>9956318.0</td>\n",
       "      <td>0.0</td>\n",
       "    </tr>\n",
       "  </tbody>\n",
       "</table>\n",
       "</div>"
      ],
      "text/plain": [
       "       Country ISO_Code  Year  Wine_Consumption_per_capita  \\\n",
       "0  Afghanistan      AFG  1961                          0.0   \n",
       "1  Afghanistan      AFG  1962                          0.0   \n",
       "2  Afghanistan      AFG  1963                          0.0   \n",
       "3  Afghanistan      AFG  1964                          0.0   \n",
       "4  Afghanistan      AFG  1965                          0.0   \n",
       "\n",
       "   Production (liters) Region     Sub_region  Latitude (average)  \\\n",
       "0                  0.0   Asia  Southern Asia                33.0   \n",
       "1                  0.0   Asia  Southern Asia                33.0   \n",
       "2                  0.0   Asia  Southern Asia                33.0   \n",
       "3                  0.0   Asia  Southern Asia                33.0   \n",
       "4                  0.0   Asia  Southern Asia                33.0   \n",
       "\n",
       "   Longitude (average)  Population  Total_Wine_Consumption  \n",
       "0                 65.0   9169406.0                     0.0  \n",
       "1                 65.0   9351442.0                     0.0  \n",
       "2                 65.0   9543200.0                     0.0  \n",
       "3                 65.0   9744772.0                     0.0  \n",
       "4                 65.0   9956318.0                     0.0  "
      ]
     },
     "execution_count": 18,
     "metadata": {},
     "output_type": "execute_result"
    }
   ],
   "source": [
    "# data engineering\n",
    "sub = prod[['Code', 'Year', 'Production (tonnes)']]\n",
    "df = cons.merge(sub, on=['Code', 'Year'], how='left').fillna(0.)\n",
    "df=df.merge(sub_un, left_on='Code', right_on='ISO-alpha3 Code', how='left').drop('ISO-alpha3 Code', axis=1).rename({'Region Name':'Region', 'Sub-region Name':'Sub_region', 'Code':'ISO_Code', 'Indicator:Alcohol, recorded per capita (15+) consumption (in litres of pure alcohol) - Beverage Types:Wine':'Wine_Consumption_per_capita', 'Entity':'Country', 'Production (tonnes)':'Production (liters)'}, axis=1)\n",
    "df=df.merge(sub_lat, left_on='ISO_Code', right_on='Alpha-3 code', how='left').drop('Alpha-3 code', axis=1)\n",
    "df['Production (liters)'] = df['Production (liters)'] *1000\n",
    "pop = wdi_indicator_getter('Population, total')\n",
    "df=df.merge(pop, on=['ISO_Code', 'Year'], how='left').rename({'Values':'Population'}, axis=1)\n",
    "df['Total_Wine_Consumption'] = df['Wine_Consumption_per_capita'] * df['Population']\n",
    "\n",
    "df.head()"
   ]
  },
  {
   "cell_type": "code",
   "execution_count": 19,
   "id": "a38cf638",
   "metadata": {},
   "outputs": [
    {
     "data": {
      "text/plain": [
       "array(['AFG'], dtype=object)"
      ]
     },
     "execution_count": 19,
     "metadata": {},
     "output_type": "execute_result"
    }
   ],
   "source": [
    "import pandas as pd\n",
    "import os\n",
    "\n",
    "path = (r'https://raw.githubusercontent.com/joaomalho/Data-Visualization-Project/main/wine_country.csv')\n",
    "\n",
    "data = pd.read_csv(path)\n",
    "\n",
    "\n",
    "filtered_by_year_df = data[(data['Country'] == 'Afghanistan')]# & (data['Year'] <= 2019) & (data['Country'] == 'Portugal')]\n",
    "a = filtered_by_year_df['ISO_Code'].unique()\n",
    "a"
   ]
  },
  {
   "cell_type": "code",
   "execution_count": 20,
   "id": "f8f0fe33",
   "metadata": {},
   "outputs": [
    {
     "data": {
      "text/html": [
       "<div>\n",
       "<style scoped>\n",
       "    .dataframe tbody tr th:only-of-type {\n",
       "        vertical-align: middle;\n",
       "    }\n",
       "\n",
       "    .dataframe tbody tr th {\n",
       "        vertical-align: top;\n",
       "    }\n",
       "\n",
       "    .dataframe thead th {\n",
       "        text-align: right;\n",
       "    }\n",
       "</style>\n",
       "<table border=\"1\" class=\"dataframe\">\n",
       "  <thead>\n",
       "    <tr style=\"text-align: right;\">\n",
       "      <th></th>\n",
       "      <th>Unnamed: 0</th>\n",
       "      <th>Country</th>\n",
       "      <th>ISO_Code</th>\n",
       "      <th>Year</th>\n",
       "      <th>Wine_Consumption_per_capita</th>\n",
       "      <th>Production (liters)</th>\n",
       "      <th>Region</th>\n",
       "      <th>Sub_region</th>\n",
       "      <th>Latitude (average)</th>\n",
       "      <th>Longitude (average)</th>\n",
       "      <th>Population</th>\n",
       "      <th>Total_Wine_Consumption</th>\n",
       "    </tr>\n",
       "  </thead>\n",
       "  <tbody>\n",
       "    <tr>\n",
       "      <th>0</th>\n",
       "      <td>0</td>\n",
       "      <td>Afghanistan</td>\n",
       "      <td>AFG</td>\n",
       "      <td>1961</td>\n",
       "      <td>0.0</td>\n",
       "      <td>0.0</td>\n",
       "      <td>Asia</td>\n",
       "      <td>Southern Asia</td>\n",
       "      <td>33.0</td>\n",
       "      <td>65.0</td>\n",
       "      <td>9169406.0</td>\n",
       "      <td>0.0</td>\n",
       "    </tr>\n",
       "    <tr>\n",
       "      <th>1</th>\n",
       "      <td>1</td>\n",
       "      <td>Afghanistan</td>\n",
       "      <td>AFG</td>\n",
       "      <td>1962</td>\n",
       "      <td>0.0</td>\n",
       "      <td>0.0</td>\n",
       "      <td>Asia</td>\n",
       "      <td>Southern Asia</td>\n",
       "      <td>33.0</td>\n",
       "      <td>65.0</td>\n",
       "      <td>9351442.0</td>\n",
       "      <td>0.0</td>\n",
       "    </tr>\n",
       "    <tr>\n",
       "      <th>2</th>\n",
       "      <td>2</td>\n",
       "      <td>Afghanistan</td>\n",
       "      <td>AFG</td>\n",
       "      <td>1963</td>\n",
       "      <td>0.0</td>\n",
       "      <td>0.0</td>\n",
       "      <td>Asia</td>\n",
       "      <td>Southern Asia</td>\n",
       "      <td>33.0</td>\n",
       "      <td>65.0</td>\n",
       "      <td>9543200.0</td>\n",
       "      <td>0.0</td>\n",
       "    </tr>\n",
       "    <tr>\n",
       "      <th>3</th>\n",
       "      <td>3</td>\n",
       "      <td>Afghanistan</td>\n",
       "      <td>AFG</td>\n",
       "      <td>1964</td>\n",
       "      <td>0.0</td>\n",
       "      <td>0.0</td>\n",
       "      <td>Asia</td>\n",
       "      <td>Southern Asia</td>\n",
       "      <td>33.0</td>\n",
       "      <td>65.0</td>\n",
       "      <td>9744772.0</td>\n",
       "      <td>0.0</td>\n",
       "    </tr>\n",
       "    <tr>\n",
       "      <th>4</th>\n",
       "      <td>4</td>\n",
       "      <td>Afghanistan</td>\n",
       "      <td>AFG</td>\n",
       "      <td>1965</td>\n",
       "      <td>0.0</td>\n",
       "      <td>0.0</td>\n",
       "      <td>Asia</td>\n",
       "      <td>Southern Asia</td>\n",
       "      <td>33.0</td>\n",
       "      <td>65.0</td>\n",
       "      <td>9956318.0</td>\n",
       "      <td>0.0</td>\n",
       "    </tr>\n",
       "  </tbody>\n",
       "</table>\n",
       "</div>"
      ],
      "text/plain": [
       "   Unnamed: 0      Country ISO_Code  Year  Wine_Consumption_per_capita  \\\n",
       "0           0  Afghanistan      AFG  1961                          0.0   \n",
       "1           1  Afghanistan      AFG  1962                          0.0   \n",
       "2           2  Afghanistan      AFG  1963                          0.0   \n",
       "3           3  Afghanistan      AFG  1964                          0.0   \n",
       "4           4  Afghanistan      AFG  1965                          0.0   \n",
       "\n",
       "   Production (liters) Region     Sub_region  Latitude (average)  \\\n",
       "0                  0.0   Asia  Southern Asia                33.0   \n",
       "1                  0.0   Asia  Southern Asia                33.0   \n",
       "2                  0.0   Asia  Southern Asia                33.0   \n",
       "3                  0.0   Asia  Southern Asia                33.0   \n",
       "4                  0.0   Asia  Southern Asia                33.0   \n",
       "\n",
       "   Longitude (average)  Population  Total_Wine_Consumption  \n",
       "0                 65.0   9169406.0                     0.0  \n",
       "1                 65.0   9351442.0                     0.0  \n",
       "2                 65.0   9543200.0                     0.0  \n",
       "3                 65.0   9744772.0                     0.0  \n",
       "4                 65.0   9956318.0                     0.0  "
      ]
     },
     "execution_count": 20,
     "metadata": {},
     "output_type": "execute_result"
    }
   ],
   "source": [
    "data.head()"
   ]
  },
  {
   "cell_type": "code",
   "execution_count": 21,
   "id": "bebdb701",
   "metadata": {},
   "outputs": [
    {
     "data": {
      "text/plain": [
       "array(['AFG', 'ALB', 'DZA', 'AND', 'AGO', 'ATG', 'ARG', 'ARM', 'AUS',\n",
       "       'AUT', 'AZE', 'BHS', 'BHR', 'BGD', 'BRB', 'BLR', 'BEL', 'BLZ',\n",
       "       'BEN', 'BTN', 'BOL', 'BIH', 'BWA', 'BRA', 'BRN', 'BGR', 'BFA',\n",
       "       'BDI', 'KHM', 'CMR', 'CAN', 'CPV', 'CAF', 'TCD', 'CHL', 'CHN',\n",
       "       'COL', 'COM', 'COG', 'COK', 'CRI', 'CIV', 'HRV', 'CUB', 'CYP',\n",
       "       'CZE', 'COD', 'DNK', 'DJI', 'DMA', 'DOM', 'ECU', 'EGY', 'SLV',\n",
       "       'GNQ', 'ERI', 'EST', 'SWZ', 'ETH', 'FJI', 'FIN', 'FRA', 'GAB',\n",
       "       'GMB', 'GEO', 'DEU', 'GHA', 'GRC', 'GRD', 'GTM', 'GIN', 'GNB',\n",
       "       'GUY', 'HTI', 'HND', 'HUN', 'ISL', 'IND', 'IDN', 'IRN', 'IRQ',\n",
       "       'IRL', 'ISR', 'ITA', 'JAM', 'JPN', 'JOR', 'KAZ', 'KEN', 'KIR',\n",
       "       'KWT', 'KGZ', 'LAO', 'LVA', 'LBN', 'LSO', 'LBR', 'LBY', 'LTU',\n",
       "       'LUX', 'MDG', 'MWI', 'MYS', 'MDV', 'MLI', 'MLT', 'MRT', 'MUS',\n",
       "       'MEX', 'FSM', 'MDA', 'MNG', 'MNE', 'MAR', 'MOZ', 'MMR', 'NAM',\n",
       "       'NRU', 'NPL', 'NLD', 'NZL', 'NIC', 'NER', 'NGA', 'NIU', 'PRK',\n",
       "       'MKD', 'NOR', 'OMN', 'PAK', 'PAN', 'PNG', 'PRY', 'PER', 'PHL',\n",
       "       'POL', 'PRT', 'QAT', 'ROU', 'RUS', 'RWA', 'KNA', 'LCA', 'VCT',\n",
       "       'WSM', 'STP', 'SAU', 'SEN', 'SRB', 'SYC', 'SLE', 'SGP', 'SVK',\n",
       "       'SVN', 'SLB', 'SOM', 'ZAF', 'KOR', 'ESP', 'LKA', 'SDN', 'SUR',\n",
       "       'SWE', 'CHE', 'SYR', 'TJK', 'TZA', 'THA', 'TLS', 'TGO', 'TON',\n",
       "       'TTO', 'TUN', 'TUR', 'TKM', 'TUV', 'UGA', 'UKR', 'ARE', 'GBR',\n",
       "       'USA', 'URY', 'UZB', 'VUT', 'VEN', 'VNM', 'YEM', 'ZMB', 'ZWE'],\n",
       "      dtype=object)"
      ]
     },
     "execution_count": 21,
     "metadata": {},
     "output_type": "execute_result"
    }
   ],
   "source": [
    "# Sub_region\n",
    "data_sub_region = data['Sub_region'].unique()\n",
    "# Metric\n",
    "data_metrics = data.iloc[:, [1, 2, 4, 5, 10, 11]].columns\n",
    "data_sub_region, data_metrics\n",
    "\n",
    "data_ISO_Codes = data['ISO_Code'].unique()\n",
    "data_ISO_Codes\n"
   ]
  },
  {
   "cell_type": "code",
   "execution_count": 2,
   "id": "3d356094",
   "metadata": {},
   "outputs": [
    {
     "data": {
      "application/vnd.plotly.v1+json": {
       "config": {
        "plotlyServerURL": "https://plot.ly"
       },
       "data": [
        {
         "ids": [
          "North America",
          "Europe",
          "Australia",
          "North America - Football",
          "Soccer",
          "North America - Rugby",
          "Europe - Football",
          "Rugby",
          "Europe - American Football",
          "Australia - Football",
          "Association",
          "Australian Rules",
          "Autstralia - American Football",
          "Australia - Rugby",
          "Rugby League",
          "Rugby Union"
         ],
         "labels": [
          "North<br>America",
          "Europe",
          "Australia",
          "Football",
          "Soccer",
          "Rugby",
          "Football",
          "Rugby",
          "American<br>Football",
          "Football",
          "Association",
          "Australian<br>Rules",
          "American<br>Football",
          "Rugby",
          "Rugby<br>League",
          "Rugby<br>Union"
         ],
         "parents": [
          "",
          "",
          "",
          "North America",
          "North America",
          "North America",
          "Europe",
          "Europe",
          "Europe",
          "Australia",
          "Australia - Football",
          "Australia - Football",
          "Australia - Football",
          "Australia - Football",
          "Australia - Rugby",
          "Australia - Rugby"
         ],
         "type": "sunburst"
        }
       ],
       "layout": {
        "margin": {
         "b": 0,
         "l": 0,
         "r": 0,
         "t": 0
        },
        "template": {
         "data": {
          "bar": [
           {
            "error_x": {
             "color": "#2a3f5f"
            },
            "error_y": {
             "color": "#2a3f5f"
            },
            "marker": {
             "line": {
              "color": "#E5ECF6",
              "width": 0.5
             },
             "pattern": {
              "fillmode": "overlay",
              "size": 10,
              "solidity": 0.2
             }
            },
            "type": "bar"
           }
          ],
          "barpolar": [
           {
            "marker": {
             "line": {
              "color": "#E5ECF6",
              "width": 0.5
             },
             "pattern": {
              "fillmode": "overlay",
              "size": 10,
              "solidity": 0.2
             }
            },
            "type": "barpolar"
           }
          ],
          "carpet": [
           {
            "aaxis": {
             "endlinecolor": "#2a3f5f",
             "gridcolor": "white",
             "linecolor": "white",
             "minorgridcolor": "white",
             "startlinecolor": "#2a3f5f"
            },
            "baxis": {
             "endlinecolor": "#2a3f5f",
             "gridcolor": "white",
             "linecolor": "white",
             "minorgridcolor": "white",
             "startlinecolor": "#2a3f5f"
            },
            "type": "carpet"
           }
          ],
          "choropleth": [
           {
            "colorbar": {
             "outlinewidth": 0,
             "ticks": ""
            },
            "type": "choropleth"
           }
          ],
          "contour": [
           {
            "colorbar": {
             "outlinewidth": 0,
             "ticks": ""
            },
            "colorscale": [
             [
              0,
              "#0d0887"
             ],
             [
              0.1111111111111111,
              "#46039f"
             ],
             [
              0.2222222222222222,
              "#7201a8"
             ],
             [
              0.3333333333333333,
              "#9c179e"
             ],
             [
              0.4444444444444444,
              "#bd3786"
             ],
             [
              0.5555555555555556,
              "#d8576b"
             ],
             [
              0.6666666666666666,
              "#ed7953"
             ],
             [
              0.7777777777777778,
              "#fb9f3a"
             ],
             [
              0.8888888888888888,
              "#fdca26"
             ],
             [
              1,
              "#f0f921"
             ]
            ],
            "type": "contour"
           }
          ],
          "contourcarpet": [
           {
            "colorbar": {
             "outlinewidth": 0,
             "ticks": ""
            },
            "type": "contourcarpet"
           }
          ],
          "heatmap": [
           {
            "colorbar": {
             "outlinewidth": 0,
             "ticks": ""
            },
            "colorscale": [
             [
              0,
              "#0d0887"
             ],
             [
              0.1111111111111111,
              "#46039f"
             ],
             [
              0.2222222222222222,
              "#7201a8"
             ],
             [
              0.3333333333333333,
              "#9c179e"
             ],
             [
              0.4444444444444444,
              "#bd3786"
             ],
             [
              0.5555555555555556,
              "#d8576b"
             ],
             [
              0.6666666666666666,
              "#ed7953"
             ],
             [
              0.7777777777777778,
              "#fb9f3a"
             ],
             [
              0.8888888888888888,
              "#fdca26"
             ],
             [
              1,
              "#f0f921"
             ]
            ],
            "type": "heatmap"
           }
          ],
          "heatmapgl": [
           {
            "colorbar": {
             "outlinewidth": 0,
             "ticks": ""
            },
            "colorscale": [
             [
              0,
              "#0d0887"
             ],
             [
              0.1111111111111111,
              "#46039f"
             ],
             [
              0.2222222222222222,
              "#7201a8"
             ],
             [
              0.3333333333333333,
              "#9c179e"
             ],
             [
              0.4444444444444444,
              "#bd3786"
             ],
             [
              0.5555555555555556,
              "#d8576b"
             ],
             [
              0.6666666666666666,
              "#ed7953"
             ],
             [
              0.7777777777777778,
              "#fb9f3a"
             ],
             [
              0.8888888888888888,
              "#fdca26"
             ],
             [
              1,
              "#f0f921"
             ]
            ],
            "type": "heatmapgl"
           }
          ],
          "histogram": [
           {
            "marker": {
             "pattern": {
              "fillmode": "overlay",
              "size": 10,
              "solidity": 0.2
             }
            },
            "type": "histogram"
           }
          ],
          "histogram2d": [
           {
            "colorbar": {
             "outlinewidth": 0,
             "ticks": ""
            },
            "colorscale": [
             [
              0,
              "#0d0887"
             ],
             [
              0.1111111111111111,
              "#46039f"
             ],
             [
              0.2222222222222222,
              "#7201a8"
             ],
             [
              0.3333333333333333,
              "#9c179e"
             ],
             [
              0.4444444444444444,
              "#bd3786"
             ],
             [
              0.5555555555555556,
              "#d8576b"
             ],
             [
              0.6666666666666666,
              "#ed7953"
             ],
             [
              0.7777777777777778,
              "#fb9f3a"
             ],
             [
              0.8888888888888888,
              "#fdca26"
             ],
             [
              1,
              "#f0f921"
             ]
            ],
            "type": "histogram2d"
           }
          ],
          "histogram2dcontour": [
           {
            "colorbar": {
             "outlinewidth": 0,
             "ticks": ""
            },
            "colorscale": [
             [
              0,
              "#0d0887"
             ],
             [
              0.1111111111111111,
              "#46039f"
             ],
             [
              0.2222222222222222,
              "#7201a8"
             ],
             [
              0.3333333333333333,
              "#9c179e"
             ],
             [
              0.4444444444444444,
              "#bd3786"
             ],
             [
              0.5555555555555556,
              "#d8576b"
             ],
             [
              0.6666666666666666,
              "#ed7953"
             ],
             [
              0.7777777777777778,
              "#fb9f3a"
             ],
             [
              0.8888888888888888,
              "#fdca26"
             ],
             [
              1,
              "#f0f921"
             ]
            ],
            "type": "histogram2dcontour"
           }
          ],
          "mesh3d": [
           {
            "colorbar": {
             "outlinewidth": 0,
             "ticks": ""
            },
            "type": "mesh3d"
           }
          ],
          "parcoords": [
           {
            "line": {
             "colorbar": {
              "outlinewidth": 0,
              "ticks": ""
             }
            },
            "type": "parcoords"
           }
          ],
          "pie": [
           {
            "automargin": true,
            "type": "pie"
           }
          ],
          "scatter": [
           {
            "fillpattern": {
             "fillmode": "overlay",
             "size": 10,
             "solidity": 0.2
            },
            "type": "scatter"
           }
          ],
          "scatter3d": [
           {
            "line": {
             "colorbar": {
              "outlinewidth": 0,
              "ticks": ""
             }
            },
            "marker": {
             "colorbar": {
              "outlinewidth": 0,
              "ticks": ""
             }
            },
            "type": "scatter3d"
           }
          ],
          "scattercarpet": [
           {
            "marker": {
             "colorbar": {
              "outlinewidth": 0,
              "ticks": ""
             }
            },
            "type": "scattercarpet"
           }
          ],
          "scattergeo": [
           {
            "marker": {
             "colorbar": {
              "outlinewidth": 0,
              "ticks": ""
             }
            },
            "type": "scattergeo"
           }
          ],
          "scattergl": [
           {
            "marker": {
             "colorbar": {
              "outlinewidth": 0,
              "ticks": ""
             }
            },
            "type": "scattergl"
           }
          ],
          "scattermapbox": [
           {
            "marker": {
             "colorbar": {
              "outlinewidth": 0,
              "ticks": ""
             }
            },
            "type": "scattermapbox"
           }
          ],
          "scatterpolar": [
           {
            "marker": {
             "colorbar": {
              "outlinewidth": 0,
              "ticks": ""
             }
            },
            "type": "scatterpolar"
           }
          ],
          "scatterpolargl": [
           {
            "marker": {
             "colorbar": {
              "outlinewidth": 0,
              "ticks": ""
             }
            },
            "type": "scatterpolargl"
           }
          ],
          "scatterternary": [
           {
            "marker": {
             "colorbar": {
              "outlinewidth": 0,
              "ticks": ""
             }
            },
            "type": "scatterternary"
           }
          ],
          "surface": [
           {
            "colorbar": {
             "outlinewidth": 0,
             "ticks": ""
            },
            "colorscale": [
             [
              0,
              "#0d0887"
             ],
             [
              0.1111111111111111,
              "#46039f"
             ],
             [
              0.2222222222222222,
              "#7201a8"
             ],
             [
              0.3333333333333333,
              "#9c179e"
             ],
             [
              0.4444444444444444,
              "#bd3786"
             ],
             [
              0.5555555555555556,
              "#d8576b"
             ],
             [
              0.6666666666666666,
              "#ed7953"
             ],
             [
              0.7777777777777778,
              "#fb9f3a"
             ],
             [
              0.8888888888888888,
              "#fdca26"
             ],
             [
              1,
              "#f0f921"
             ]
            ],
            "type": "surface"
           }
          ],
          "table": [
           {
            "cells": {
             "fill": {
              "color": "#EBF0F8"
             },
             "line": {
              "color": "white"
             }
            },
            "header": {
             "fill": {
              "color": "#C8D4E3"
             },
             "line": {
              "color": "white"
             }
            },
            "type": "table"
           }
          ]
         },
         "layout": {
          "annotationdefaults": {
           "arrowcolor": "#2a3f5f",
           "arrowhead": 0,
           "arrowwidth": 1
          },
          "autotypenumbers": "strict",
          "coloraxis": {
           "colorbar": {
            "outlinewidth": 0,
            "ticks": ""
           }
          },
          "colorscale": {
           "diverging": [
            [
             0,
             "#8e0152"
            ],
            [
             0.1,
             "#c51b7d"
            ],
            [
             0.2,
             "#de77ae"
            ],
            [
             0.3,
             "#f1b6da"
            ],
            [
             0.4,
             "#fde0ef"
            ],
            [
             0.5,
             "#f7f7f7"
            ],
            [
             0.6,
             "#e6f5d0"
            ],
            [
             0.7,
             "#b8e186"
            ],
            [
             0.8,
             "#7fbc41"
            ],
            [
             0.9,
             "#4d9221"
            ],
            [
             1,
             "#276419"
            ]
           ],
           "sequential": [
            [
             0,
             "#0d0887"
            ],
            [
             0.1111111111111111,
             "#46039f"
            ],
            [
             0.2222222222222222,
             "#7201a8"
            ],
            [
             0.3333333333333333,
             "#9c179e"
            ],
            [
             0.4444444444444444,
             "#bd3786"
            ],
            [
             0.5555555555555556,
             "#d8576b"
            ],
            [
             0.6666666666666666,
             "#ed7953"
            ],
            [
             0.7777777777777778,
             "#fb9f3a"
            ],
            [
             0.8888888888888888,
             "#fdca26"
            ],
            [
             1,
             "#f0f921"
            ]
           ],
           "sequentialminus": [
            [
             0,
             "#0d0887"
            ],
            [
             0.1111111111111111,
             "#46039f"
            ],
            [
             0.2222222222222222,
             "#7201a8"
            ],
            [
             0.3333333333333333,
             "#9c179e"
            ],
            [
             0.4444444444444444,
             "#bd3786"
            ],
            [
             0.5555555555555556,
             "#d8576b"
            ],
            [
             0.6666666666666666,
             "#ed7953"
            ],
            [
             0.7777777777777778,
             "#fb9f3a"
            ],
            [
             0.8888888888888888,
             "#fdca26"
            ],
            [
             1,
             "#f0f921"
            ]
           ]
          },
          "colorway": [
           "#636efa",
           "#EF553B",
           "#00cc96",
           "#ab63fa",
           "#FFA15A",
           "#19d3f3",
           "#FF6692",
           "#B6E880",
           "#FF97FF",
           "#FECB52"
          ],
          "font": {
           "color": "#2a3f5f"
          },
          "geo": {
           "bgcolor": "white",
           "lakecolor": "white",
           "landcolor": "#E5ECF6",
           "showlakes": true,
           "showland": true,
           "subunitcolor": "white"
          },
          "hoverlabel": {
           "align": "left"
          },
          "hovermode": "closest",
          "mapbox": {
           "style": "light"
          },
          "paper_bgcolor": "white",
          "plot_bgcolor": "#E5ECF6",
          "polar": {
           "angularaxis": {
            "gridcolor": "white",
            "linecolor": "white",
            "ticks": ""
           },
           "bgcolor": "#E5ECF6",
           "radialaxis": {
            "gridcolor": "white",
            "linecolor": "white",
            "ticks": ""
           }
          },
          "scene": {
           "xaxis": {
            "backgroundcolor": "#E5ECF6",
            "gridcolor": "white",
            "gridwidth": 2,
            "linecolor": "white",
            "showbackground": true,
            "ticks": "",
            "zerolinecolor": "white"
           },
           "yaxis": {
            "backgroundcolor": "#E5ECF6",
            "gridcolor": "white",
            "gridwidth": 2,
            "linecolor": "white",
            "showbackground": true,
            "ticks": "",
            "zerolinecolor": "white"
           },
           "zaxis": {
            "backgroundcolor": "#E5ECF6",
            "gridcolor": "white",
            "gridwidth": 2,
            "linecolor": "white",
            "showbackground": true,
            "ticks": "",
            "zerolinecolor": "white"
           }
          },
          "shapedefaults": {
           "line": {
            "color": "#2a3f5f"
           }
          },
          "ternary": {
           "aaxis": {
            "gridcolor": "white",
            "linecolor": "white",
            "ticks": ""
           },
           "baxis": {
            "gridcolor": "white",
            "linecolor": "white",
            "ticks": ""
           },
           "bgcolor": "#E5ECF6",
           "caxis": {
            "gridcolor": "white",
            "linecolor": "white",
            "ticks": ""
           }
          },
          "title": {
           "x": 0.05
          },
          "xaxis": {
           "automargin": true,
           "gridcolor": "white",
           "linecolor": "white",
           "ticks": "",
           "title": {
            "standoff": 15
           },
           "zerolinecolor": "white",
           "zerolinewidth": 2
          },
          "yaxis": {
           "automargin": true,
           "gridcolor": "white",
           "linecolor": "white",
           "ticks": "",
           "title": {
            "standoff": 15
           },
           "zerolinecolor": "white",
           "zerolinewidth": 2
          }
         }
        }
       }
      }
     },
     "metadata": {},
     "output_type": "display_data"
    }
   ],
   "source": [
    "import plotly.graph_objects as go\n",
    "\n",
    "fig =go.Figure(go.Sunburst(\n",
    " ids=[\n",
    "    \"North America\", \"Europe\", \"Australia\", \"North America - Football\", \"Soccer\",\n",
    "    \"North America - Rugby\", \"Europe - Football\", \"Rugby\",\n",
    "    \"Europe - American Football\",\"Australia - Football\", \"Association\",\n",
    "    \"Australian Rules\", \"Autstralia - American Football\", \"Australia - Rugby\",\n",
    "    \"Rugby League\", \"Rugby Union\"\n",
    "  ],\n",
    "  labels= [\n",
    "    \"North<br>America\", \"Europe\", \"Australia\", \"Football\", \"Soccer\", \"Rugby\",\n",
    "    \"Football\", \"Rugby\", \"American<br>Football\", \"Football\", \"Association\",\n",
    "    \"Australian<br>Rules\", \"American<br>Football\", \"Rugby\", \"Rugby<br>League\",\n",
    "    \"Rugby<br>Union\"\n",
    "  ],\n",
    "  parents=[\n",
    "    \"\", \"\", \"\", \"North America\", \"North America\", \"North America\", \"Europe\",\n",
    "    \"Europe\", \"Europe\",\"Australia\", \"Australia - Football\", \"Australia - Football\",\n",
    "    \"Australia - Football\", \"Australia - Football\", \"Australia - Rugby\",\n",
    "    \"Australia - Rugby\"\n",
    "  ],\n",
    "))\n",
    "fig.update_layout(margin = dict(t=0, l=0, r=0, b=0))\n",
    "\n",
    "fig.show()"
   ]
  },
  {
   "attachments": {},
   "cell_type": "markdown",
   "id": "64dfa3ab",
   "metadata": {},
   "source": [
    "## __VIVINO__"
   ]
  },
  {
   "cell_type": "code",
   "execution_count": 5,
   "id": "14b184e8",
   "metadata": {},
   "outputs": [],
   "source": [
    "\n",
    "# === Vivino === #\n",
    "path1 = \"https://raw.githubusercontent.com/joaomalho/Data-Visualization-Project/main/Vivino_scrap.xlsx\"\n",
    "data_vivino = pd.read_excel(path1)\n",
    "\n"
   ]
  },
  {
   "cell_type": "code",
   "execution_count": 10,
   "id": "69a82044",
   "metadata": {},
   "outputs": [
    {
     "data": {
      "text/html": [
       "<div>\n",
       "<style scoped>\n",
       "    .dataframe tbody tr th:only-of-type {\n",
       "        vertical-align: middle;\n",
       "    }\n",
       "\n",
       "    .dataframe tbody tr th {\n",
       "        vertical-align: top;\n",
       "    }\n",
       "\n",
       "    .dataframe thead th {\n",
       "        text-align: right;\n",
       "    }\n",
       "</style>\n",
       "<table border=\"1\" class=\"dataframe\">\n",
       "  <thead>\n",
       "    <tr style=\"text-align: right;\">\n",
       "      <th></th>\n",
       "      <th>Wine_Name</th>\n",
       "      <th>Producer</th>\n",
       "      <th>Country</th>\n",
       "      <th>City</th>\n",
       "      <th>Ratings</th>\n",
       "      <th>N_Classifications</th>\n",
       "      <th>Prices</th>\n",
       "      <th>Images</th>\n",
       "    </tr>\n",
       "  </thead>\n",
       "  <tbody>\n",
       "    <tr>\n",
       "      <th>1</th>\n",
       "      <td>Krohn</td>\n",
       "      <td>Colheita Port 1957</td>\n",
       "      <td>Portugal</td>\n",
       "      <td>Porto</td>\n",
       "      <td>4.9</td>\n",
       "      <td>40</td>\n",
       "      <td>241.87</td>\n",
       "      <td>https://images.vivino.com/thumbs/5Jex0HJzQi6aK...</td>\n",
       "    </tr>\n",
       "    <tr>\n",
       "      <th>2</th>\n",
       "      <td>Legado</td>\n",
       "      <td>Douro Tinto 2014</td>\n",
       "      <td>Portugal</td>\n",
       "      <td>Douro</td>\n",
       "      <td>4.8</td>\n",
       "      <td>207</td>\n",
       "      <td>258.00</td>\n",
       "      <td>https://images.vivino.com/thumbs/8dH1yISyQ1Wgr...</td>\n",
       "    </tr>\n",
       "    <tr>\n",
       "      <th>3</th>\n",
       "      <td>Legado</td>\n",
       "      <td>Douro Tinto 2015</td>\n",
       "      <td>Portugal</td>\n",
       "      <td>Douro</td>\n",
       "      <td>4.8</td>\n",
       "      <td>147</td>\n",
       "      <td>315.00</td>\n",
       "      <td>https://images.vivino.com/thumbs/8dH1yISyQ1Wgr...</td>\n",
       "    </tr>\n",
       "    <tr>\n",
       "      <th>4</th>\n",
       "      <td>Quinta Vale D. Maria</td>\n",
       "      <td>Vinha do Rio Douro Tinto 2016</td>\n",
       "      <td>Portugal</td>\n",
       "      <td>Douro</td>\n",
       "      <td>4.8</td>\n",
       "      <td>126</td>\n",
       "      <td>158.15</td>\n",
       "      <td>https://images.vivino.com/thumbs/0daKQekVT_eO9...</td>\n",
       "    </tr>\n",
       "    <tr>\n",
       "      <th>5</th>\n",
       "      <td>Krohn</td>\n",
       "      <td>Colheita Port 1966</td>\n",
       "      <td>Portugal</td>\n",
       "      <td>Porto</td>\n",
       "      <td>4.8</td>\n",
       "      <td>90</td>\n",
       "      <td>158.54</td>\n",
       "      <td>https://images.vivino.com/thumbs/5Jex0HJzQi6aK...</td>\n",
       "    </tr>\n",
       "    <tr>\n",
       "      <th>...</th>\n",
       "      <td>...</td>\n",
       "      <td>...</td>\n",
       "      <td>...</td>\n",
       "      <td>...</td>\n",
       "      <td>...</td>\n",
       "      <td>...</td>\n",
       "      <td>...</td>\n",
       "      <td>...</td>\n",
       "    </tr>\n",
       "    <tr>\n",
       "      <th>4502</th>\n",
       "      <td>Château de Cruzeau</td>\n",
       "      <td>Pessac-Léognan 1998</td>\n",
       "      <td>França</td>\n",
       "      <td>Pessac-Léognan</td>\n",
       "      <td>4.3</td>\n",
       "      <td>31</td>\n",
       "      <td>30.25</td>\n",
       "      <td>https://images.vivino.com/thumbs/zT_s16mLTt-H9...</td>\n",
       "    </tr>\n",
       "    <tr>\n",
       "      <th>4503</th>\n",
       "      <td>Château Balestard La Tonnelle</td>\n",
       "      <td>Saint-Émilion Grand Cru (Grand Cru Classé) 1986</td>\n",
       "      <td>França</td>\n",
       "      <td>Saint-Émilion Grand Cru</td>\n",
       "      <td>4.3</td>\n",
       "      <td>31</td>\n",
       "      <td>42.35</td>\n",
       "      <td>https://images.vivino.com/thumbs/H0MuIlneR5-nG...</td>\n",
       "    </tr>\n",
       "    <tr>\n",
       "      <th>4504</th>\n",
       "      <td>Château Troplong Mondot</td>\n",
       "      <td>Saint-Émilion Grand Cru (Premier Grand Cru Cla...</td>\n",
       "      <td>França</td>\n",
       "      <td>Saint-Émilion Grand Cru</td>\n",
       "      <td>4.3</td>\n",
       "      <td>31</td>\n",
       "      <td>121.00</td>\n",
       "      <td>https://images.vivino.com/thumbs/batLho9_TxWuW...</td>\n",
       "    </tr>\n",
       "    <tr>\n",
       "      <th>4505</th>\n",
       "      <td>Piero Busso</td>\n",
       "      <td>San Stunet S. Stefanetto Barbaresco 2019</td>\n",
       "      <td>Itália</td>\n",
       "      <td>Barbaresco</td>\n",
       "      <td>4.3</td>\n",
       "      <td>31</td>\n",
       "      <td>63.00</td>\n",
       "      <td>https://images.vivino.com/thumbs/mmI9SCigSH6EK...</td>\n",
       "    </tr>\n",
       "    <tr>\n",
       "      <th>4506</th>\n",
       "      <td>Weinbau Uwe Schiefer</td>\n",
       "      <td>Königsberg Blaufränkisch k Alte Weingarten 2013</td>\n",
       "      <td>Áustria</td>\n",
       "      <td>Südburgenland</td>\n",
       "      <td>4.3</td>\n",
       "      <td>31</td>\n",
       "      <td>59.90</td>\n",
       "      <td>https://images.vivino.com/thumbs/VWCoD250RV6Ys...</td>\n",
       "    </tr>\n",
       "  </tbody>\n",
       "</table>\n",
       "<p>4114 rows × 8 columns</p>\n",
       "</div>"
      ],
      "text/plain": [
       "                          Wine_Name  \\\n",
       "1                             Krohn   \n",
       "2                            Legado   \n",
       "3                            Legado   \n",
       "4              Quinta Vale D. Maria   \n",
       "5                             Krohn   \n",
       "...                             ...   \n",
       "4502             Château de Cruzeau   \n",
       "4503  Château Balestard La Tonnelle   \n",
       "4504        Château Troplong Mondot   \n",
       "4505                    Piero Busso   \n",
       "4506           Weinbau Uwe Schiefer   \n",
       "\n",
       "                                               Producer   Country  \\\n",
       "1                                    Colheita Port 1957  Portugal   \n",
       "2                                      Douro Tinto 2014  Portugal   \n",
       "3                                      Douro Tinto 2015  Portugal   \n",
       "4                         Vinha do Rio Douro Tinto 2016  Portugal   \n",
       "5                                    Colheita Port 1966  Portugal   \n",
       "...                                                 ...       ...   \n",
       "4502                                Pessac-Léognan 1998    França   \n",
       "4503    Saint-Émilion Grand Cru (Grand Cru Classé) 1986    França   \n",
       "4504  Saint-Émilion Grand Cru (Premier Grand Cru Cla...    França   \n",
       "4505           San Stunet S. Stefanetto Barbaresco 2019    Itália   \n",
       "4506    Königsberg Blaufränkisch k Alte Weingarten 2013   Áustria   \n",
       "\n",
       "                         City  Ratings  N_Classifications  Prices  \\\n",
       "1                       Porto      4.9                 40  241.87   \n",
       "2                       Douro      4.8                207  258.00   \n",
       "3                       Douro      4.8                147  315.00   \n",
       "4                       Douro      4.8                126  158.15   \n",
       "5                       Porto      4.8                 90  158.54   \n",
       "...                       ...      ...                ...     ...   \n",
       "4502           Pessac-Léognan      4.3                 31   30.25   \n",
       "4503  Saint-Émilion Grand Cru      4.3                 31   42.35   \n",
       "4504  Saint-Émilion Grand Cru      4.3                 31  121.00   \n",
       "4505               Barbaresco      4.3                 31   63.00   \n",
       "4506            Südburgenland      4.3                 31   59.90   \n",
       "\n",
       "                                                 Images  \n",
       "1     https://images.vivino.com/thumbs/5Jex0HJzQi6aK...  \n",
       "2     https://images.vivino.com/thumbs/8dH1yISyQ1Wgr...  \n",
       "3     https://images.vivino.com/thumbs/8dH1yISyQ1Wgr...  \n",
       "4     https://images.vivino.com/thumbs/0daKQekVT_eO9...  \n",
       "5     https://images.vivino.com/thumbs/5Jex0HJzQi6aK...  \n",
       "...                                                 ...  \n",
       "4502  https://images.vivino.com/thumbs/zT_s16mLTt-H9...  \n",
       "4503  https://images.vivino.com/thumbs/H0MuIlneR5-nG...  \n",
       "4504  https://images.vivino.com/thumbs/batLho9_TxWuW...  \n",
       "4505  https://images.vivino.com/thumbs/mmI9SCigSH6EK...  \n",
       "4506  https://images.vivino.com/thumbs/VWCoD250RV6Ys...  \n",
       "\n",
       "[4114 rows x 8 columns]"
      ]
     },
     "execution_count": 10,
     "metadata": {},
     "output_type": "execute_result"
    }
   ],
   "source": [
    "data_vivino"
   ]
  },
  {
   "cell_type": "code",
   "execution_count": 11,
   "id": "d4bce515",
   "metadata": {},
   "outputs": [
    {
     "data": {
      "text/plain": [
       "(               Country  N_Classifications\n",
       " 0             Alemanha               1379\n",
       " 1            Argentina               9366\n",
       " 2            Austrália               2083\n",
       " 3                Chile              11536\n",
       " 4              Croácia               2272\n",
       " 5            Eslovénia                167\n",
       " 6            Eslovênia                352\n",
       " 7              Espanha              34559\n",
       " 8       Estados Unidos               9011\n",
       " 9               França             589588\n",
       " 10              Grécia                515\n",
       " 11              Itália              59711\n",
       " 12              Líbano               9433\n",
       " 13  Macedónia do Norte                618\n",
       " 14  Macedônia do Norte                556\n",
       " 15         New Zealand                895\n",
       " 16            Portugal             237537\n",
       " 17         Reino Unido                433\n",
       " 18               Suíça                335\n",
       " 19             Uruguay                674\n",
       " 20       África do Sul               7186\n",
       " 21             Áustria               4013,\n",
       "                Country   Ratings\n",
       " 0             Alemanha  4.385000\n",
       " 1            Argentina  4.445455\n",
       " 2            Austrália  4.445455\n",
       " 3                Chile  4.463636\n",
       " 4              Croácia  4.389474\n",
       " 5            Eslovénia  4.450000\n",
       " 6            Eslovênia  4.320000\n",
       " 7              Espanha  4.339759\n",
       " 8       Estados Unidos  4.480000\n",
       " 9               França  4.342533\n",
       " 10              Grécia  4.380000\n",
       " 11              Itália  4.338485\n",
       " 12              Líbano  4.300000\n",
       " 13  Macedónia do Norte  4.480000\n",
       " 14  Macedônia do Norte  4.375000\n",
       " 15         New Zealand  4.366667\n",
       " 16            Portugal  4.359855\n",
       " 17         Reino Unido  4.350000\n",
       " 18               Suíça  4.400000\n",
       " 19             Uruguay  4.400000\n",
       " 20       África do Sul  4.385000\n",
       " 21             Áustria  4.305455)"
      ]
     },
     "execution_count": 11,
     "metadata": {},
     "output_type": "execute_result"
    }
   ],
   "source": [
    "# Total Reveiw per country per Year\n",
    "data_vivino_total_reviews_country_year = data_vivino.groupby(['Country'])['N_Classifications'].sum().reset_index()\n",
    "data_vivino_total_reviews_country_year\n",
    "\n",
    "# Mean Reviews per country per Year\n",
    "data_vivino_avg_rating_country_year = data_vivino.groupby(['Country'])['Ratings'].mean().reset_index()\n",
    "data_vivino_avg_rating_country_year\n",
    "\n",
    "data_vivino_total_reviews_country_year, data_vivino_avg_rating_country_year"
   ]
  },
  {
   "cell_type": "code",
   "execution_count": 22,
   "id": "db4d398a",
   "metadata": {},
   "outputs": [
    {
     "data": {
      "text/html": [
       "<div>\n",
       "<style scoped>\n",
       "    .dataframe tbody tr th:only-of-type {\n",
       "        vertical-align: middle;\n",
       "    }\n",
       "\n",
       "    .dataframe tbody tr th {\n",
       "        vertical-align: top;\n",
       "    }\n",
       "\n",
       "    .dataframe thead th {\n",
       "        text-align: right;\n",
       "    }\n",
       "</style>\n",
       "<table border=\"1\" class=\"dataframe\">\n",
       "  <thead>\n",
       "    <tr style=\"text-align: right;\">\n",
       "      <th></th>\n",
       "      <th>Unnamed: 0</th>\n",
       "      <th>Country</th>\n",
       "      <th>ISO_Code</th>\n",
       "      <th>Year</th>\n",
       "      <th>Wine_Consumption_per_capita</th>\n",
       "      <th>Production (liters)</th>\n",
       "      <th>Region</th>\n",
       "      <th>Sub_region</th>\n",
       "      <th>Latitude (average)</th>\n",
       "      <th>Longitude (average)</th>\n",
       "      <th>Population</th>\n",
       "      <th>Total_Wine_Consumption</th>\n",
       "      <th>N_Classifications</th>\n",
       "    </tr>\n",
       "  </thead>\n",
       "  <tbody>\n",
       "    <tr>\n",
       "      <th>0</th>\n",
       "      <td>0</td>\n",
       "      <td>Afghanistan</td>\n",
       "      <td>AFG</td>\n",
       "      <td>1961</td>\n",
       "      <td>0.00</td>\n",
       "      <td>0.0</td>\n",
       "      <td>Asia</td>\n",
       "      <td>Southern Asia</td>\n",
       "      <td>33.0</td>\n",
       "      <td>65.0</td>\n",
       "      <td>9169406.0</td>\n",
       "      <td>0.00</td>\n",
       "      <td>NaN</td>\n",
       "    </tr>\n",
       "    <tr>\n",
       "      <th>1</th>\n",
       "      <td>1</td>\n",
       "      <td>Afghanistan</td>\n",
       "      <td>AFG</td>\n",
       "      <td>1962</td>\n",
       "      <td>0.00</td>\n",
       "      <td>0.0</td>\n",
       "      <td>Asia</td>\n",
       "      <td>Southern Asia</td>\n",
       "      <td>33.0</td>\n",
       "      <td>65.0</td>\n",
       "      <td>9351442.0</td>\n",
       "      <td>0.00</td>\n",
       "      <td>NaN</td>\n",
       "    </tr>\n",
       "    <tr>\n",
       "      <th>2</th>\n",
       "      <td>2</td>\n",
       "      <td>Afghanistan</td>\n",
       "      <td>AFG</td>\n",
       "      <td>1963</td>\n",
       "      <td>0.00</td>\n",
       "      <td>0.0</td>\n",
       "      <td>Asia</td>\n",
       "      <td>Southern Asia</td>\n",
       "      <td>33.0</td>\n",
       "      <td>65.0</td>\n",
       "      <td>9543200.0</td>\n",
       "      <td>0.00</td>\n",
       "      <td>NaN</td>\n",
       "    </tr>\n",
       "    <tr>\n",
       "      <th>3</th>\n",
       "      <td>3</td>\n",
       "      <td>Afghanistan</td>\n",
       "      <td>AFG</td>\n",
       "      <td>1964</td>\n",
       "      <td>0.00</td>\n",
       "      <td>0.0</td>\n",
       "      <td>Asia</td>\n",
       "      <td>Southern Asia</td>\n",
       "      <td>33.0</td>\n",
       "      <td>65.0</td>\n",
       "      <td>9744772.0</td>\n",
       "      <td>0.00</td>\n",
       "      <td>NaN</td>\n",
       "    </tr>\n",
       "    <tr>\n",
       "      <th>4</th>\n",
       "      <td>4</td>\n",
       "      <td>Afghanistan</td>\n",
       "      <td>AFG</td>\n",
       "      <td>1965</td>\n",
       "      <td>0.00</td>\n",
       "      <td>0.0</td>\n",
       "      <td>Asia</td>\n",
       "      <td>Southern Asia</td>\n",
       "      <td>33.0</td>\n",
       "      <td>65.0</td>\n",
       "      <td>9956318.0</td>\n",
       "      <td>0.00</td>\n",
       "      <td>NaN</td>\n",
       "    </tr>\n",
       "    <tr>\n",
       "      <th>...</th>\n",
       "      <td>...</td>\n",
       "      <td>...</td>\n",
       "      <td>...</td>\n",
       "      <td>...</td>\n",
       "      <td>...</td>\n",
       "      <td>...</td>\n",
       "      <td>...</td>\n",
       "      <td>...</td>\n",
       "      <td>...</td>\n",
       "      <td>...</td>\n",
       "      <td>...</td>\n",
       "      <td>...</td>\n",
       "      <td>...</td>\n",
       "    </tr>\n",
       "    <tr>\n",
       "      <th>10659</th>\n",
       "      <td>10659</td>\n",
       "      <td>Zimbabwe</td>\n",
       "      <td>ZWE</td>\n",
       "      <td>2015</td>\n",
       "      <td>0.06</td>\n",
       "      <td>2316000.0</td>\n",
       "      <td>Africa</td>\n",
       "      <td>Sub-Saharan Africa</td>\n",
       "      <td>-20.0</td>\n",
       "      <td>30.0</td>\n",
       "      <td>13814642.0</td>\n",
       "      <td>828878.52</td>\n",
       "      <td>NaN</td>\n",
       "    </tr>\n",
       "    <tr>\n",
       "      <th>10660</th>\n",
       "      <td>10660</td>\n",
       "      <td>Zimbabwe</td>\n",
       "      <td>ZWE</td>\n",
       "      <td>2016</td>\n",
       "      <td>0.05</td>\n",
       "      <td>2089000.0</td>\n",
       "      <td>Africa</td>\n",
       "      <td>Sub-Saharan Africa</td>\n",
       "      <td>-20.0</td>\n",
       "      <td>30.0</td>\n",
       "      <td>14030338.0</td>\n",
       "      <td>701516.90</td>\n",
       "      <td>NaN</td>\n",
       "    </tr>\n",
       "    <tr>\n",
       "      <th>10661</th>\n",
       "      <td>10661</td>\n",
       "      <td>Zimbabwe</td>\n",
       "      <td>ZWE</td>\n",
       "      <td>2017</td>\n",
       "      <td>0.05</td>\n",
       "      <td>2245000.0</td>\n",
       "      <td>Africa</td>\n",
       "      <td>Sub-Saharan Africa</td>\n",
       "      <td>-20.0</td>\n",
       "      <td>30.0</td>\n",
       "      <td>14236599.0</td>\n",
       "      <td>711829.95</td>\n",
       "      <td>NaN</td>\n",
       "    </tr>\n",
       "    <tr>\n",
       "      <th>10662</th>\n",
       "      <td>10662</td>\n",
       "      <td>Zimbabwe</td>\n",
       "      <td>ZWE</td>\n",
       "      <td>2018</td>\n",
       "      <td>0.04</td>\n",
       "      <td>2004000.0</td>\n",
       "      <td>Africa</td>\n",
       "      <td>Sub-Saharan Africa</td>\n",
       "      <td>-20.0</td>\n",
       "      <td>30.0</td>\n",
       "      <td>14438812.0</td>\n",
       "      <td>577552.48</td>\n",
       "      <td>NaN</td>\n",
       "    </tr>\n",
       "    <tr>\n",
       "      <th>10663</th>\n",
       "      <td>10663</td>\n",
       "      <td>Zimbabwe</td>\n",
       "      <td>ZWE</td>\n",
       "      <td>2019</td>\n",
       "      <td>0.05</td>\n",
       "      <td>1361000.0</td>\n",
       "      <td>Africa</td>\n",
       "      <td>Sub-Saharan Africa</td>\n",
       "      <td>-20.0</td>\n",
       "      <td>30.0</td>\n",
       "      <td>14645473.0</td>\n",
       "      <td>732273.65</td>\n",
       "      <td>NaN</td>\n",
       "    </tr>\n",
       "  </tbody>\n",
       "</table>\n",
       "<p>10664 rows × 13 columns</p>\n",
       "</div>"
      ],
      "text/plain": [
       "       Unnamed: 0      Country ISO_Code  Year  Wine_Consumption_per_capita  \\\n",
       "0               0  Afghanistan      AFG  1961                         0.00   \n",
       "1               1  Afghanistan      AFG  1962                         0.00   \n",
       "2               2  Afghanistan      AFG  1963                         0.00   \n",
       "3               3  Afghanistan      AFG  1964                         0.00   \n",
       "4               4  Afghanistan      AFG  1965                         0.00   \n",
       "...           ...          ...      ...   ...                          ...   \n",
       "10659       10659     Zimbabwe      ZWE  2015                         0.06   \n",
       "10660       10660     Zimbabwe      ZWE  2016                         0.05   \n",
       "10661       10661     Zimbabwe      ZWE  2017                         0.05   \n",
       "10662       10662     Zimbabwe      ZWE  2018                         0.04   \n",
       "10663       10663     Zimbabwe      ZWE  2019                         0.05   \n",
       "\n",
       "       Production (liters)  Region          Sub_region  Latitude (average)  \\\n",
       "0                      0.0    Asia       Southern Asia                33.0   \n",
       "1                      0.0    Asia       Southern Asia                33.0   \n",
       "2                      0.0    Asia       Southern Asia                33.0   \n",
       "3                      0.0    Asia       Southern Asia                33.0   \n",
       "4                      0.0    Asia       Southern Asia                33.0   \n",
       "...                    ...     ...                 ...                 ...   \n",
       "10659            2316000.0  Africa  Sub-Saharan Africa               -20.0   \n",
       "10660            2089000.0  Africa  Sub-Saharan Africa               -20.0   \n",
       "10661            2245000.0  Africa  Sub-Saharan Africa               -20.0   \n",
       "10662            2004000.0  Africa  Sub-Saharan Africa               -20.0   \n",
       "10663            1361000.0  Africa  Sub-Saharan Africa               -20.0   \n",
       "\n",
       "       Longitude (average)  Population  Total_Wine_Consumption  \\\n",
       "0                     65.0   9169406.0                    0.00   \n",
       "1                     65.0   9351442.0                    0.00   \n",
       "2                     65.0   9543200.0                    0.00   \n",
       "3                     65.0   9744772.0                    0.00   \n",
       "4                     65.0   9956318.0                    0.00   \n",
       "...                    ...         ...                     ...   \n",
       "10659                 30.0  13814642.0               828878.52   \n",
       "10660                 30.0  14030338.0               701516.90   \n",
       "10661                 30.0  14236599.0               711829.95   \n",
       "10662                 30.0  14438812.0               577552.48   \n",
       "10663                 30.0  14645473.0               732273.65   \n",
       "\n",
       "       N_Classifications  \n",
       "0                    NaN  \n",
       "1                    NaN  \n",
       "2                    NaN  \n",
       "3                    NaN  \n",
       "4                    NaN  \n",
       "...                  ...  \n",
       "10659                NaN  \n",
       "10660                NaN  \n",
       "10661                NaN  \n",
       "10662                NaN  \n",
       "10663                NaN  \n",
       "\n",
       "[10664 rows x 13 columns]"
      ]
     },
     "execution_count": 22,
     "metadata": {},
     "output_type": "execute_result"
    }
   ],
   "source": [
    "data=pd.merge(data, data_vivino_total_reviews_country_year, left_on=['Country'], right_on=['Country'], how='left')\n",
    "data\n",
    "#data=pd.merge(data, data_vivino_avg_rating_country_year, left_on=['Country'], right_on=['Country'], how='left').drop('Country_Code', axis=1)\n"
   ]
  },
  {
   "cell_type": "code",
   "execution_count": 123,
   "id": "d95dce6e",
   "metadata": {},
   "outputs": [
    {
     "data": {
      "text/html": [
       "<div>\n",
       "<style scoped>\n",
       "    .dataframe tbody tr th:only-of-type {\n",
       "        vertical-align: middle;\n",
       "    }\n",
       "\n",
       "    .dataframe tbody tr th {\n",
       "        vertical-align: top;\n",
       "    }\n",
       "\n",
       "    .dataframe thead th {\n",
       "        text-align: right;\n",
       "    }\n",
       "</style>\n",
       "<table border=\"1\" class=\"dataframe\">\n",
       "  <thead>\n",
       "    <tr style=\"text-align: right;\">\n",
       "      <th></th>\n",
       "      <th>Unnamed: 0</th>\n",
       "      <th>Country</th>\n",
       "      <th>ISO_Code</th>\n",
       "      <th>Year</th>\n",
       "      <th>Wine_Consumption_per_capita</th>\n",
       "      <th>Production (liters)</th>\n",
       "      <th>Region</th>\n",
       "      <th>Sub_region</th>\n",
       "      <th>Latitude (average)</th>\n",
       "      <th>Longitude (average)</th>\n",
       "      <th>Population</th>\n",
       "      <th>Total_Wine_Consumption</th>\n",
       "      <th>Reviews</th>\n",
       "      <th>Rating</th>\n",
       "    </tr>\n",
       "  </thead>\n",
       "  <tbody>\n",
       "    <tr>\n",
       "      <th>0</th>\n",
       "      <td>0</td>\n",
       "      <td>Afghanistan</td>\n",
       "      <td>AFG</td>\n",
       "      <td>1961</td>\n",
       "      <td>0.00</td>\n",
       "      <td>0.0</td>\n",
       "      <td>Asia</td>\n",
       "      <td>Southern Asia</td>\n",
       "      <td>33.0</td>\n",
       "      <td>65.0</td>\n",
       "      <td>9169406.0</td>\n",
       "      <td>0.00</td>\n",
       "      <td>NaN</td>\n",
       "      <td>NaN</td>\n",
       "    </tr>\n",
       "    <tr>\n",
       "      <th>1</th>\n",
       "      <td>1</td>\n",
       "      <td>Afghanistan</td>\n",
       "      <td>AFG</td>\n",
       "      <td>1962</td>\n",
       "      <td>0.00</td>\n",
       "      <td>0.0</td>\n",
       "      <td>Asia</td>\n",
       "      <td>Southern Asia</td>\n",
       "      <td>33.0</td>\n",
       "      <td>65.0</td>\n",
       "      <td>9351442.0</td>\n",
       "      <td>0.00</td>\n",
       "      <td>NaN</td>\n",
       "      <td>NaN</td>\n",
       "    </tr>\n",
       "    <tr>\n",
       "      <th>2</th>\n",
       "      <td>2</td>\n",
       "      <td>Afghanistan</td>\n",
       "      <td>AFG</td>\n",
       "      <td>1963</td>\n",
       "      <td>0.00</td>\n",
       "      <td>0.0</td>\n",
       "      <td>Asia</td>\n",
       "      <td>Southern Asia</td>\n",
       "      <td>33.0</td>\n",
       "      <td>65.0</td>\n",
       "      <td>9543200.0</td>\n",
       "      <td>0.00</td>\n",
       "      <td>NaN</td>\n",
       "      <td>NaN</td>\n",
       "    </tr>\n",
       "    <tr>\n",
       "      <th>3</th>\n",
       "      <td>3</td>\n",
       "      <td>Afghanistan</td>\n",
       "      <td>AFG</td>\n",
       "      <td>1964</td>\n",
       "      <td>0.00</td>\n",
       "      <td>0.0</td>\n",
       "      <td>Asia</td>\n",
       "      <td>Southern Asia</td>\n",
       "      <td>33.0</td>\n",
       "      <td>65.0</td>\n",
       "      <td>9744772.0</td>\n",
       "      <td>0.00</td>\n",
       "      <td>NaN</td>\n",
       "      <td>NaN</td>\n",
       "    </tr>\n",
       "    <tr>\n",
       "      <th>4</th>\n",
       "      <td>4</td>\n",
       "      <td>Afghanistan</td>\n",
       "      <td>AFG</td>\n",
       "      <td>1965</td>\n",
       "      <td>0.00</td>\n",
       "      <td>0.0</td>\n",
       "      <td>Asia</td>\n",
       "      <td>Southern Asia</td>\n",
       "      <td>33.0</td>\n",
       "      <td>65.0</td>\n",
       "      <td>9956318.0</td>\n",
       "      <td>0.00</td>\n",
       "      <td>NaN</td>\n",
       "      <td>NaN</td>\n",
       "    </tr>\n",
       "    <tr>\n",
       "      <th>...</th>\n",
       "      <td>...</td>\n",
       "      <td>...</td>\n",
       "      <td>...</td>\n",
       "      <td>...</td>\n",
       "      <td>...</td>\n",
       "      <td>...</td>\n",
       "      <td>...</td>\n",
       "      <td>...</td>\n",
       "      <td>...</td>\n",
       "      <td>...</td>\n",
       "      <td>...</td>\n",
       "      <td>...</td>\n",
       "      <td>...</td>\n",
       "      <td>...</td>\n",
       "    </tr>\n",
       "    <tr>\n",
       "      <th>10659</th>\n",
       "      <td>10659</td>\n",
       "      <td>Zimbabwe</td>\n",
       "      <td>ZWE</td>\n",
       "      <td>2015</td>\n",
       "      <td>0.06</td>\n",
       "      <td>2316000.0</td>\n",
       "      <td>Africa</td>\n",
       "      <td>Sub-Saharan Africa</td>\n",
       "      <td>-20.0</td>\n",
       "      <td>30.0</td>\n",
       "      <td>13814642.0</td>\n",
       "      <td>828878.52</td>\n",
       "      <td>NaN</td>\n",
       "      <td>NaN</td>\n",
       "    </tr>\n",
       "    <tr>\n",
       "      <th>10660</th>\n",
       "      <td>10660</td>\n",
       "      <td>Zimbabwe</td>\n",
       "      <td>ZWE</td>\n",
       "      <td>2016</td>\n",
       "      <td>0.05</td>\n",
       "      <td>2089000.0</td>\n",
       "      <td>Africa</td>\n",
       "      <td>Sub-Saharan Africa</td>\n",
       "      <td>-20.0</td>\n",
       "      <td>30.0</td>\n",
       "      <td>14030338.0</td>\n",
       "      <td>701516.90</td>\n",
       "      <td>NaN</td>\n",
       "      <td>NaN</td>\n",
       "    </tr>\n",
       "    <tr>\n",
       "      <th>10661</th>\n",
       "      <td>10661</td>\n",
       "      <td>Zimbabwe</td>\n",
       "      <td>ZWE</td>\n",
       "      <td>2017</td>\n",
       "      <td>0.05</td>\n",
       "      <td>2245000.0</td>\n",
       "      <td>Africa</td>\n",
       "      <td>Sub-Saharan Africa</td>\n",
       "      <td>-20.0</td>\n",
       "      <td>30.0</td>\n",
       "      <td>14236599.0</td>\n",
       "      <td>711829.95</td>\n",
       "      <td>NaN</td>\n",
       "      <td>NaN</td>\n",
       "    </tr>\n",
       "    <tr>\n",
       "      <th>10662</th>\n",
       "      <td>10662</td>\n",
       "      <td>Zimbabwe</td>\n",
       "      <td>ZWE</td>\n",
       "      <td>2018</td>\n",
       "      <td>0.04</td>\n",
       "      <td>2004000.0</td>\n",
       "      <td>Africa</td>\n",
       "      <td>Sub-Saharan Africa</td>\n",
       "      <td>-20.0</td>\n",
       "      <td>30.0</td>\n",
       "      <td>14438812.0</td>\n",
       "      <td>577552.48</td>\n",
       "      <td>NaN</td>\n",
       "      <td>NaN</td>\n",
       "    </tr>\n",
       "    <tr>\n",
       "      <th>10663</th>\n",
       "      <td>10663</td>\n",
       "      <td>Zimbabwe</td>\n",
       "      <td>ZWE</td>\n",
       "      <td>2019</td>\n",
       "      <td>0.05</td>\n",
       "      <td>1361000.0</td>\n",
       "      <td>Africa</td>\n",
       "      <td>Sub-Saharan Africa</td>\n",
       "      <td>-20.0</td>\n",
       "      <td>30.0</td>\n",
       "      <td>14645473.0</td>\n",
       "      <td>732273.65</td>\n",
       "      <td>NaN</td>\n",
       "      <td>NaN</td>\n",
       "    </tr>\n",
       "  </tbody>\n",
       "</table>\n",
       "<p>10664 rows × 14 columns</p>\n",
       "</div>"
      ],
      "text/plain": [
       "       Unnamed: 0      Country ISO_Code  Year  Wine_Consumption_per_capita  \\\n",
       "0               0  Afghanistan      AFG  1961                         0.00   \n",
       "1               1  Afghanistan      AFG  1962                         0.00   \n",
       "2               2  Afghanistan      AFG  1963                         0.00   \n",
       "3               3  Afghanistan      AFG  1964                         0.00   \n",
       "4               4  Afghanistan      AFG  1965                         0.00   \n",
       "...           ...          ...      ...   ...                          ...   \n",
       "10659       10659     Zimbabwe      ZWE  2015                         0.06   \n",
       "10660       10660     Zimbabwe      ZWE  2016                         0.05   \n",
       "10661       10661     Zimbabwe      ZWE  2017                         0.05   \n",
       "10662       10662     Zimbabwe      ZWE  2018                         0.04   \n",
       "10663       10663     Zimbabwe      ZWE  2019                         0.05   \n",
       "\n",
       "       Production (liters)  Region          Sub_region  Latitude (average)  \\\n",
       "0                      0.0    Asia       Southern Asia                33.0   \n",
       "1                      0.0    Asia       Southern Asia                33.0   \n",
       "2                      0.0    Asia       Southern Asia                33.0   \n",
       "3                      0.0    Asia       Southern Asia                33.0   \n",
       "4                      0.0    Asia       Southern Asia                33.0   \n",
       "...                    ...     ...                 ...                 ...   \n",
       "10659            2316000.0  Africa  Sub-Saharan Africa               -20.0   \n",
       "10660            2089000.0  Africa  Sub-Saharan Africa               -20.0   \n",
       "10661            2245000.0  Africa  Sub-Saharan Africa               -20.0   \n",
       "10662            2004000.0  Africa  Sub-Saharan Africa               -20.0   \n",
       "10663            1361000.0  Africa  Sub-Saharan Africa               -20.0   \n",
       "\n",
       "       Longitude (average)  Population  Total_Wine_Consumption  Reviews  \\\n",
       "0                     65.0   9169406.0                    0.00      NaN   \n",
       "1                     65.0   9351442.0                    0.00      NaN   \n",
       "2                     65.0   9543200.0                    0.00      NaN   \n",
       "3                     65.0   9744772.0                    0.00      NaN   \n",
       "4                     65.0   9956318.0                    0.00      NaN   \n",
       "...                    ...         ...                     ...      ...   \n",
       "10659                 30.0  13814642.0               828878.52      NaN   \n",
       "10660                 30.0  14030338.0               701516.90      NaN   \n",
       "10661                 30.0  14236599.0               711829.95      NaN   \n",
       "10662                 30.0  14438812.0               577552.48      NaN   \n",
       "10663                 30.0  14645473.0               732273.65      NaN   \n",
       "\n",
       "       Rating  \n",
       "0         NaN  \n",
       "1         NaN  \n",
       "2         NaN  \n",
       "3         NaN  \n",
       "4         NaN  \n",
       "...       ...  \n",
       "10659     NaN  \n",
       "10660     NaN  \n",
       "10661     NaN  \n",
       "10662     NaN  \n",
       "10663     NaN  \n",
       "\n",
       "[10664 rows x 14 columns]"
      ]
     },
     "execution_count": 123,
     "metadata": {},
     "output_type": "execute_result"
    }
   ],
   "source": [
    "data=pd.merge(data, data_vivino_total_reviews_country_year, left_on=['ISO_Code', 'Year'], right_on=['Country_Code', 'Year'], how='left').drop('Country_Code', axis=1)\n",
    "data=pd.merge(data, data_vivino_avg_rating_country_year, left_on=['ISO_Code', 'Year'], right_on=['Country_Code', 'Year'], how='left').drop('Country_Code', axis=1)\n",
    "\n",
    "data"
   ]
  },
  {
   "cell_type": "code",
   "execution_count": null,
   "id": "52f7e545",
   "metadata": {},
   "outputs": [],
   "source": []
  },
  {
   "cell_type": "code",
   "execution_count": null,
   "id": "03fea512",
   "metadata": {},
   "outputs": [],
   "source": []
  },
  {
   "cell_type": "code",
   "execution_count": 10,
   "id": "e2af912f",
   "metadata": {},
   "outputs": [],
   "source": [
    "\n",
    "# saving the dataframe\n",
    "df.to_csv('wine_country.csv')"
   ]
  },
  {
   "cell_type": "code",
   "execution_count": 30,
   "id": "7fba1d91",
   "metadata": {},
   "outputs": [
    {
     "name": "stdout",
     "output_type": "stream",
     "text": [
      "['validation_report', 'geo-countries_zip', 'countries']\n"
     ]
    }
   ],
   "source": [
    "# !pip install datapackage\n",
    "from datapackage import Package\n",
    "\n",
    "package = Package('https://datahub.io/core/geo-countries/datapackage.json')\n",
    "\n",
    "# print list of all resources:\n",
    "print(package.resource_names)\n",
    "\n",
    "# print processed tabular data (if exists any)\n",
    "for resource in package.resources:\n",
    "    if resource.descriptor['datahub']['type'] == 'derived/csv':\n",
    "        print(resource.read())"
   ]
  },
  {
   "cell_type": "markdown",
   "id": "725caa47",
   "metadata": {},
   "source": [
    "import json\n",
    "\n",
    "path_country_json = (r'C:\\Users\\joaom\\0. Nova IMS\\2ºSemestre\\Data Visualization\\Project\\WINE\\Project\\Data\\Data_files\\countries.geojson')\n",
    "# Open the GeoJSON file and load its contents\n",
    "\n",
    "country_locations = json.load(open(path_country_json, 'r'))\n",
    "type(country_locations)\n",
    "country_locations.keys()\n",
    "country_locations['features']\n",
    "type(country_locations['features'])\n",
    "country_locations['features'][0]\n",
    "type(country_locations['features'][0])\n",
    "country_locations['features'][0].keys()\n",
    "country_locations['features'][0]['properties']['ISO_A3']\n",
    "\n",
    "country_locations['features']"
   ]
  }
 ],
 "metadata": {
  "kernelspec": {
   "display_name": "Python 3",
   "language": "python",
   "name": "python3"
  },
  "language_info": {
   "codemirror_mode": {
    "name": "ipython",
    "version": 3
   },
   "file_extension": ".py",
   "mimetype": "text/x-python",
   "name": "python",
   "nbconvert_exporter": "python",
   "pygments_lexer": "ipython3",
   "version": "3.10.10"
  },
  "polyglot_notebook": {
   "kernelInfo": {
    "defaultKernelName": "csharp",
    "items": [
     {
      "aliases": [],
      "name": "csharp"
     }
    ]
   }
  },
  "vscode": {
   "interpreter": {
    "hash": "c0726c0838a80937985c3340d5b14f3c0cf281a70241aa1f5a58b019cd9f50f6"
   }
  }
 },
 "nbformat": 4,
 "nbformat_minor": 5
}
